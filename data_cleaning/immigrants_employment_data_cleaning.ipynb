{
  "nbformat": 4,
  "nbformat_minor": 0,
  "metadata": {
    "colab": {
      "provenance": []
    },
    "kernelspec": {
      "name": "python3",
      "display_name": "Python 3"
    },
    "language_info": {
      "name": "python"
    }
  },
  "cells": [
    {
      "cell_type": "code",
      "execution_count": 1,
      "metadata": {
        "id": "XDVM_8OxKHp-"
      },
      "outputs": [],
      "source": [
        "import pandas as pd "
      ]
    },
    {
      "cell_type": "code",
      "source": [
        "edu_df = pd.read_csv('immigrant_education_employment_d2.csv', error_bad_lines=False)"
      ],
      "metadata": {
        "colab": {
          "base_uri": "https://localhost:8080/"
        },
        "id": "hXpGdA8aKpzy",
        "outputId": "b7d9aee2-b0f4-40f4-fe8f-6889648ae103"
      },
      "execution_count": 2,
      "outputs": [
        {
          "output_type": "stream",
          "name": "stderr",
          "text": [
            "<ipython-input-2-ab390f0152e4>:1: FutureWarning: The error_bad_lines argument has been deprecated and will be removed in a future version. Use on_bad_lines in the future.\n",
            "\n",
            "\n",
            "  edu_df = pd.read_csv('immigrant_education_employment_d2.csv', error_bad_lines=False)\n"
          ]
        }
      ]
    },
    {
      "cell_type": "code",
      "source": [
        "edu_df.info()"
      ],
      "metadata": {
        "colab": {
          "base_uri": "https://localhost:8080/"
        },
        "id": "9DkgRpAWKyv_",
        "outputId": "db9fc92c-322f-4163-c56b-7c9710b647fc"
      },
      "execution_count": 3,
      "outputs": [
        {
          "output_type": "stream",
          "name": "stdout",
          "text": [
            "<class 'pandas.core.frame.DataFrame'>\n",
            "RangeIndex: 274248 entries, 0 to 274247\n",
            "Data columns (total 21 columns):\n",
            " #   Column                                           Non-Null Count   Dtype  \n",
            "---  ------                                           --------------   -----  \n",
            " 0   REF_DATE                                         274248 non-null  int64  \n",
            " 1   GEO                                              274248 non-null  object \n",
            " 2   DGUID                                            274248 non-null  object \n",
            " 3   Immigrant status and period of immigration (11)  274248 non-null  object \n",
            " 4   Highest certificate, diploma or degree (7)       274248 non-null  object \n",
            " 5   Age (15A)                                        274248 non-null  object \n",
            " 6   Gender (3)                                       274248 non-null  object \n",
            " 7   Statistics (3)                                   274248 non-null  object \n",
            " 8   Visible minority (15)                            274248 non-null  object \n",
            " 9   Labour force status (8)                          274248 non-null  object \n",
            " 10  UOM                                              0 non-null       float64\n",
            " 11  UOM_ID                                           274248 non-null  int64  \n",
            " 12  SCALAR_FACTOR                                    274248 non-null  object \n",
            " 13  SCALAR_ID                                        274248 non-null  int64  \n",
            " 14  VECTOR                                           0 non-null       float64\n",
            " 15  COORDINATE                                       274248 non-null  object \n",
            " 16  VALUE                                            274248 non-null  float64\n",
            " 17  STATUS                                           0 non-null       float64\n",
            " 18  SYMBOL                                           0 non-null       float64\n",
            " 19  TERMINATED                                       0 non-null       float64\n",
            " 20  DECIMALS                                         274248 non-null  int64  \n",
            "dtypes: float64(6), int64(4), object(11)\n",
            "memory usage: 43.9+ MB\n"
          ]
        }
      ]
    },
    {
      "cell_type": "code",
      "source": [
        "edu_df.head()"
      ],
      "metadata": {
        "id": "gg3p71hxK04R"
      },
      "execution_count": null,
      "outputs": []
    },
    {
      "cell_type": "code",
      "source": [
        "edu_df.columns"
      ],
      "metadata": {
        "colab": {
          "base_uri": "https://localhost:8080/"
        },
        "id": "YNA1fxopK2Ki",
        "outputId": "ae870d0a-70b4-4856-8b1d-2e9770f1f118"
      },
      "execution_count": 5,
      "outputs": [
        {
          "output_type": "execute_result",
          "data": {
            "text/plain": [
              "Index(['REF_DATE', 'GEO', 'DGUID',\n",
              "       'Immigrant status and period of immigration (11)',\n",
              "       'Highest certificate, diploma or degree (7)', 'Age (15A)', 'Gender (3)',\n",
              "       'Statistics (3)', 'Visible minority (15)', 'Labour force status (8)',\n",
              "       'UOM', 'UOM_ID', 'SCALAR_FACTOR', 'SCALAR_ID', 'VECTOR', 'COORDINATE',\n",
              "       'VALUE', 'STATUS', 'SYMBOL', 'TERMINATED', 'DECIMALS'],\n",
              "      dtype='object')"
            ]
          },
          "metadata": {},
          "execution_count": 5
        }
      ]
    },
    {
      "cell_type": "code",
      "source": [
        "filtered_df = edu_df[['GEO', 'Immigrant status and period of immigration (11)', 'Visible minority (15)',\n",
        "       'Highest certificate, diploma or degree (7)', 'Gender (3)', 'Labour force status (8)','VALUE']]"
      ],
      "metadata": {
        "id": "4G8ahpgbLM8b"
      },
      "execution_count": 23,
      "outputs": []
    },
    {
      "cell_type": "code",
      "source": [
        "filtered_df.head(10)"
      ],
      "metadata": {
        "colab": {
          "base_uri": "https://localhost:8080/",
          "height": 407
        },
        "outputId": "b46f0c11-b5a6-4a9d-9586-ba2c584e87e5",
        "id": "rO0QJyqpLkgv"
      },
      "execution_count": 36,
      "outputs": [
        {
          "output_type": "execute_result",
          "data": {
            "text/plain": [
              "                            GEO Visible minority (15)  \\\n",
              "3713  Newfoundland and Labrador           South Asian   \n",
              "3714  Newfoundland and Labrador           South Asian   \n",
              "3715  Newfoundland and Labrador           South Asian   \n",
              "3716  Newfoundland and Labrador           South Asian   \n",
              "3717  Newfoundland and Labrador           South Asian   \n",
              "3718  Newfoundland and Labrador               Chinese   \n",
              "3719  Newfoundland and Labrador               Chinese   \n",
              "3720  Newfoundland and Labrador               Chinese   \n",
              "3721  Newfoundland and Labrador                 Black   \n",
              "3722  Newfoundland and Labrador                 Black   \n",
              "\n",
              "     Highest certificate, diploma or degree (7) Gender (3)  \\\n",
              "3713          No certificate, diploma or degree      Men+    \n",
              "3714          No certificate, diploma or degree      Men+    \n",
              "3715          No certificate, diploma or degree      Men+    \n",
              "3716          No certificate, diploma or degree      Men+    \n",
              "3717          No certificate, diploma or degree      Men+    \n",
              "3718          No certificate, diploma or degree      Men+    \n",
              "3719          No certificate, diploma or degree      Men+    \n",
              "3720          No certificate, diploma or degree      Men+    \n",
              "3721          No certificate, diploma or degree      Men+    \n",
              "3722          No certificate, diploma or degree      Men+    \n",
              "\n",
              "          Labour force status (8)  VALUE  \n",
              "3713  Total - Labour force status   25.0  \n",
              "3714      Not in the labour force   15.0  \n",
              "3715           Participation rate    0.0  \n",
              "3716              Employment rate    0.0  \n",
              "3717            Unemployment rate    0.0  \n",
              "3718           Participation rate    0.0  \n",
              "3719              Employment rate    0.0  \n",
              "3720            Unemployment rate    0.0  \n",
              "3721  Total - Labour force status   65.0  \n",
              "3722          In the labour force   20.0  "
            ],
            "text/html": [
              "\n",
              "  <div id=\"df-c8b06e33-66cd-4430-9241-520d995e0dda\">\n",
              "    <div class=\"colab-df-container\">\n",
              "      <div>\n",
              "<style scoped>\n",
              "    .dataframe tbody tr th:only-of-type {\n",
              "        vertical-align: middle;\n",
              "    }\n",
              "\n",
              "    .dataframe tbody tr th {\n",
              "        vertical-align: top;\n",
              "    }\n",
              "\n",
              "    .dataframe thead th {\n",
              "        text-align: right;\n",
              "    }\n",
              "</style>\n",
              "<table border=\"1\" class=\"dataframe\">\n",
              "  <thead>\n",
              "    <tr style=\"text-align: right;\">\n",
              "      <th></th>\n",
              "      <th>GEO</th>\n",
              "      <th>Visible minority (15)</th>\n",
              "      <th>Highest certificate, diploma or degree (7)</th>\n",
              "      <th>Gender (3)</th>\n",
              "      <th>Labour force status (8)</th>\n",
              "      <th>VALUE</th>\n",
              "    </tr>\n",
              "  </thead>\n",
              "  <tbody>\n",
              "    <tr>\n",
              "      <th>3713</th>\n",
              "      <td>Newfoundland and Labrador</td>\n",
              "      <td>South Asian</td>\n",
              "      <td>No certificate, diploma or degree</td>\n",
              "      <td>Men+</td>\n",
              "      <td>Total - Labour force status</td>\n",
              "      <td>25.0</td>\n",
              "    </tr>\n",
              "    <tr>\n",
              "      <th>3714</th>\n",
              "      <td>Newfoundland and Labrador</td>\n",
              "      <td>South Asian</td>\n",
              "      <td>No certificate, diploma or degree</td>\n",
              "      <td>Men+</td>\n",
              "      <td>Not in the labour force</td>\n",
              "      <td>15.0</td>\n",
              "    </tr>\n",
              "    <tr>\n",
              "      <th>3715</th>\n",
              "      <td>Newfoundland and Labrador</td>\n",
              "      <td>South Asian</td>\n",
              "      <td>No certificate, diploma or degree</td>\n",
              "      <td>Men+</td>\n",
              "      <td>Participation rate</td>\n",
              "      <td>0.0</td>\n",
              "    </tr>\n",
              "    <tr>\n",
              "      <th>3716</th>\n",
              "      <td>Newfoundland and Labrador</td>\n",
              "      <td>South Asian</td>\n",
              "      <td>No certificate, diploma or degree</td>\n",
              "      <td>Men+</td>\n",
              "      <td>Employment rate</td>\n",
              "      <td>0.0</td>\n",
              "    </tr>\n",
              "    <tr>\n",
              "      <th>3717</th>\n",
              "      <td>Newfoundland and Labrador</td>\n",
              "      <td>South Asian</td>\n",
              "      <td>No certificate, diploma or degree</td>\n",
              "      <td>Men+</td>\n",
              "      <td>Unemployment rate</td>\n",
              "      <td>0.0</td>\n",
              "    </tr>\n",
              "    <tr>\n",
              "      <th>3718</th>\n",
              "      <td>Newfoundland and Labrador</td>\n",
              "      <td>Chinese</td>\n",
              "      <td>No certificate, diploma or degree</td>\n",
              "      <td>Men+</td>\n",
              "      <td>Participation rate</td>\n",
              "      <td>0.0</td>\n",
              "    </tr>\n",
              "    <tr>\n",
              "      <th>3719</th>\n",
              "      <td>Newfoundland and Labrador</td>\n",
              "      <td>Chinese</td>\n",
              "      <td>No certificate, diploma or degree</td>\n",
              "      <td>Men+</td>\n",
              "      <td>Employment rate</td>\n",
              "      <td>0.0</td>\n",
              "    </tr>\n",
              "    <tr>\n",
              "      <th>3720</th>\n",
              "      <td>Newfoundland and Labrador</td>\n",
              "      <td>Chinese</td>\n",
              "      <td>No certificate, diploma or degree</td>\n",
              "      <td>Men+</td>\n",
              "      <td>Unemployment rate</td>\n",
              "      <td>0.0</td>\n",
              "    </tr>\n",
              "    <tr>\n",
              "      <th>3721</th>\n",
              "      <td>Newfoundland and Labrador</td>\n",
              "      <td>Black</td>\n",
              "      <td>No certificate, diploma or degree</td>\n",
              "      <td>Men+</td>\n",
              "      <td>Total - Labour force status</td>\n",
              "      <td>65.0</td>\n",
              "    </tr>\n",
              "    <tr>\n",
              "      <th>3722</th>\n",
              "      <td>Newfoundland and Labrador</td>\n",
              "      <td>Black</td>\n",
              "      <td>No certificate, diploma or degree</td>\n",
              "      <td>Men+</td>\n",
              "      <td>In the labour force</td>\n",
              "      <td>20.0</td>\n",
              "    </tr>\n",
              "  </tbody>\n",
              "</table>\n",
              "</div>\n",
              "      <button class=\"colab-df-convert\" onclick=\"convertToInteractive('df-c8b06e33-66cd-4430-9241-520d995e0dda')\"\n",
              "              title=\"Convert this dataframe to an interactive table.\"\n",
              "              style=\"display:none;\">\n",
              "        \n",
              "  <svg xmlns=\"http://www.w3.org/2000/svg\" height=\"24px\"viewBox=\"0 0 24 24\"\n",
              "       width=\"24px\">\n",
              "    <path d=\"M0 0h24v24H0V0z\" fill=\"none\"/>\n",
              "    <path d=\"M18.56 5.44l.94 2.06.94-2.06 2.06-.94-2.06-.94-.94-2.06-.94 2.06-2.06.94zm-11 1L8.5 8.5l.94-2.06 2.06-.94-2.06-.94L8.5 2.5l-.94 2.06-2.06.94zm10 10l.94 2.06.94-2.06 2.06-.94-2.06-.94-.94-2.06-.94 2.06-2.06.94z\"/><path d=\"M17.41 7.96l-1.37-1.37c-.4-.4-.92-.59-1.43-.59-.52 0-1.04.2-1.43.59L10.3 9.45l-7.72 7.72c-.78.78-.78 2.05 0 2.83L4 21.41c.39.39.9.59 1.41.59.51 0 1.02-.2 1.41-.59l7.78-7.78 2.81-2.81c.8-.78.8-2.07 0-2.86zM5.41 20L4 18.59l7.72-7.72 1.47 1.35L5.41 20z\"/>\n",
              "  </svg>\n",
              "      </button>\n",
              "      \n",
              "  <style>\n",
              "    .colab-df-container {\n",
              "      display:flex;\n",
              "      flex-wrap:wrap;\n",
              "      gap: 12px;\n",
              "    }\n",
              "\n",
              "    .colab-df-convert {\n",
              "      background-color: #E8F0FE;\n",
              "      border: none;\n",
              "      border-radius: 50%;\n",
              "      cursor: pointer;\n",
              "      display: none;\n",
              "      fill: #1967D2;\n",
              "      height: 32px;\n",
              "      padding: 0 0 0 0;\n",
              "      width: 32px;\n",
              "    }\n",
              "\n",
              "    .colab-df-convert:hover {\n",
              "      background-color: #E2EBFA;\n",
              "      box-shadow: 0px 1px 2px rgba(60, 64, 67, 0.3), 0px 1px 3px 1px rgba(60, 64, 67, 0.15);\n",
              "      fill: #174EA6;\n",
              "    }\n",
              "\n",
              "    [theme=dark] .colab-df-convert {\n",
              "      background-color: #3B4455;\n",
              "      fill: #D2E3FC;\n",
              "    }\n",
              "\n",
              "    [theme=dark] .colab-df-convert:hover {\n",
              "      background-color: #434B5C;\n",
              "      box-shadow: 0px 1px 3px 1px rgba(0, 0, 0, 0.15);\n",
              "      filter: drop-shadow(0px 1px 2px rgba(0, 0, 0, 0.3));\n",
              "      fill: #FFFFFF;\n",
              "    }\n",
              "  </style>\n",
              "\n",
              "      <script>\n",
              "        const buttonEl =\n",
              "          document.querySelector('#df-c8b06e33-66cd-4430-9241-520d995e0dda button.colab-df-convert');\n",
              "        buttonEl.style.display =\n",
              "          google.colab.kernel.accessAllowed ? 'block' : 'none';\n",
              "\n",
              "        async function convertToInteractive(key) {\n",
              "          const element = document.querySelector('#df-c8b06e33-66cd-4430-9241-520d995e0dda');\n",
              "          const dataTable =\n",
              "            await google.colab.kernel.invokeFunction('convertToInteractive',\n",
              "                                                     [key], {});\n",
              "          if (!dataTable) return;\n",
              "\n",
              "          const docLinkHtml = 'Like what you see? Visit the ' +\n",
              "            '<a target=\"_blank\" href=https://colab.research.google.com/notebooks/data_table.ipynb>data table notebook</a>'\n",
              "            + ' to learn more about interactive tables.';\n",
              "          element.innerHTML = '';\n",
              "          dataTable['output_type'] = 'display_data';\n",
              "          await google.colab.output.renderOutput(dataTable, element);\n",
              "          const docLink = document.createElement('div');\n",
              "          docLink.innerHTML = docLinkHtml;\n",
              "          element.appendChild(docLink);\n",
              "        }\n",
              "      </script>\n",
              "    </div>\n",
              "  </div>\n",
              "  "
            ]
          },
          "metadata": {},
          "execution_count": 36
        }
      ]
    },
    {
      "cell_type": "code",
      "source": [
        "filtered_df['Immigrant status and period of immigration (11)'].unique()"
      ],
      "metadata": {
        "colab": {
          "base_uri": "https://localhost:8080/"
        },
        "id": "aQvVVOurMXgl",
        "outputId": "c9c88185-10b1-40f8-f8fc-cf36fb3931b6"
      },
      "execution_count": 25,
      "outputs": [
        {
          "output_type": "execute_result",
          "data": {
            "text/plain": [
              "array(['Total - Immigrant status and period of immigration',\n",
              "       '2016 to 2021'], dtype=object)"
            ]
          },
          "metadata": {},
          "execution_count": 25
        }
      ]
    },
    {
      "cell_type": "code",
      "source": [
        "filtered_df['Visible minority (15)'].unique()"
      ],
      "metadata": {
        "colab": {
          "base_uri": "https://localhost:8080/"
        },
        "id": "dHiVY-11MgBY",
        "outputId": "fb2655e8-0b34-4275-8bc4-9f37b2913710"
      },
      "execution_count": 26,
      "outputs": [
        {
          "output_type": "execute_result",
          "data": {
            "text/plain": [
              "array(['Total - Visible minority', 'Total visible minority population',\n",
              "       'South Asian', 'Chinese', 'Black', 'Filipino', 'Arab',\n",
              "       'Latin American', 'Southeast Asian', 'West Asian', 'Korean',\n",
              "       'Japanese', 'Visible minority, n.i.e.',\n",
              "       'Multiple visible minorities'], dtype=object)"
            ]
          },
          "metadata": {},
          "execution_count": 26
        }
      ]
    },
    {
      "cell_type": "code",
      "source": [
        "filtered_df['Gender (3)'].unique()"
      ],
      "metadata": {
        "colab": {
          "base_uri": "https://localhost:8080/"
        },
        "id": "c5EysiX7Owby",
        "outputId": "848d726c-ead3-45a3-8777-2d7272f62095"
      },
      "execution_count": 31,
      "outputs": [
        {
          "output_type": "execute_result",
          "data": {
            "text/plain": [
              "array(['Men+ ', 'Women+ '], dtype=object)"
            ]
          },
          "metadata": {},
          "execution_count": 31
        }
      ]
    },
    {
      "cell_type": "code",
      "source": [
        "filtered_df['Labour force status (8)'].unique()"
      ],
      "metadata": {
        "colab": {
          "base_uri": "https://localhost:8080/"
        },
        "id": "L0LwuW-FO1MW",
        "outputId": "d30f1f0e-73af-4952-b250-4ee9bf84237b"
      },
      "execution_count": 32,
      "outputs": [
        {
          "output_type": "execute_result",
          "data": {
            "text/plain": [
              "array(['Total - Labour force status', 'In the labour force', 'Employed',\n",
              "       'Unemployed', 'Not in the labour force', 'Participation rate',\n",
              "       'Employment rate', 'Unemployment rate'], dtype=object)"
            ]
          },
          "metadata": {},
          "execution_count": 32
        }
      ]
    },
    {
      "cell_type": "code",
      "source": [
        "#remove rows with 'GEO' in the column \n",
        "\n",
        "filtered_df = filtered_df[filtered_df['GEO'] != 'Canada']"
      ],
      "metadata": {
        "id": "31E98meYQIds"
      },
      "execution_count": 33,
      "outputs": []
    },
    {
      "cell_type": "code",
      "source": [
        "#remove rows with 'Total - Immigrant status and period of immigration' in the column \n",
        "\n",
        "filtered_df = filtered_df[filtered_df['Immigrant status and period of immigration (11)'] != 'Total - Immigrant status and period of immigration']"
      ],
      "metadata": {
        "id": "Mqg4j3-kM0ny"
      },
      "execution_count": 27,
      "outputs": []
    },
    {
      "cell_type": "code",
      "source": [
        "#remove rows from ''Visible minority (15)' column\n",
        "\n",
        "filtered_df = filtered_df[(filtered_df['Visible minority (15)'] != 'Total - Visible minority') & (filtered_df['Visible minority (15)'] != 'Total visible minority population')]\n"
      ],
      "metadata": {
        "id": "pr2ucXGBNC3Q"
      },
      "execution_count": 28,
      "outputs": []
    },
    {
      "cell_type": "code",
      "source": [
        "# remove column - 'Immigrant status and period of immigration (11)'\n",
        "\n",
        "filtered_df = filtered_df[['GEO',  'Visible minority (15)',\n",
        "       'Highest certificate, diploma or degree (7)', 'Gender (3)', 'Labour force status (8)','VALUE']]"
      ],
      "metadata": {
        "id": "l7ZbaLpvNCEB"
      },
      "execution_count": 29,
      "outputs": []
    },
    {
      "cell_type": "code",
      "source": [
        "filtered_df.info()"
      ],
      "metadata": {
        "colab": {
          "base_uri": "https://localhost:8080/"
        },
        "id": "qsjCWF9sM_YJ",
        "outputId": "4feae95b-cb72-49f2-b38f-6e141919e23d"
      },
      "execution_count": 34,
      "outputs": [
        {
          "output_type": "stream",
          "name": "stdout",
          "text": [
            "<class 'pandas.core.frame.DataFrame'>\n",
            "Int64Index: 95780 entries, 3713 to 274247\n",
            "Data columns (total 6 columns):\n",
            " #   Column                                      Non-Null Count  Dtype  \n",
            "---  ------                                      --------------  -----  \n",
            " 0   GEO                                         95780 non-null  object \n",
            " 1   Visible minority (15)                       95780 non-null  object \n",
            " 2   Highest certificate, diploma or degree (7)  95780 non-null  object \n",
            " 3   Gender (3)                                  95780 non-null  object \n",
            " 4   Labour force status (8)                     95780 non-null  object \n",
            " 5   VALUE                                       95780 non-null  float64\n",
            "dtypes: float64(1), object(5)\n",
            "memory usage: 5.1+ MB\n"
          ]
        }
      ]
    },
    {
      "cell_type": "code",
      "source": [
        "reshaped_df = filtered_df.pivot_table(index=['GEO', 'Visible minority (15)', 'Highest certificate, diploma or degree (7)', 'Gender (3)'],\n",
        "                             columns='Labour force status (8)',\n",
        "                             values='VALUE').reset_index()\n",
        "\n",
        "\n",
        "sorted_columns = ['GEO', 'Visible minority (15)', 'Highest certificate, diploma or degree (7)', 'Gender (3)',\n",
        "                  'Total - Labour force status', 'In the labour force', 'Employed', 'Unemployed',\n",
        "                  'Not in the labour force', 'Participation rate', 'Employment rate', 'Unemployment rate']\n",
        "                  \n",
        "reshaped_df = reshaped_df.reindex(columns=sorted_columns)"
      ],
      "metadata": {
        "id": "OLmUIQCkRb2K"
      },
      "execution_count": 37,
      "outputs": []
    },
    {
      "cell_type": "code",
      "source": [
        "reshaped_df = reshaped_df.fillna(0)"
      ],
      "metadata": {
        "id": "fvW1OgLrSdqH"
      },
      "execution_count": 41,
      "outputs": []
    },
    {
      "cell_type": "code",
      "source": [
        "reshaped_df.tail()"
      ],
      "metadata": {
        "colab": {
          "base_uri": "https://localhost:8080/",
          "height": 475
        },
        "id": "dsiJIsCcRkHH",
        "outputId": "5697defd-819f-4ba4-d84c-673cf793ac59"
      },
      "execution_count": 43,
      "outputs": [
        {
          "output_type": "execute_result",
          "data": {
            "text/plain": [
              "Labour force status (8)    GEO Visible minority (15)  \\\n",
              "24907                    Yukon            West Asian   \n",
              "24908                    Yukon            West Asian   \n",
              "24909                    Yukon            West Asian   \n",
              "24910                    Yukon            West Asian   \n",
              "24911                    Yukon            West Asian   \n",
              "\n",
              "Labour force status (8)         Highest certificate, diploma or degree (7)  \\\n",
              "24907                    High (secondary) school diploma or equivalency...   \n",
              "24908                                    No certificate, diploma or degree   \n",
              "24909                                    No certificate, diploma or degree   \n",
              "24910                    University certificate or diploma below bachel...   \n",
              "24911                    University certificate or diploma below bachel...   \n",
              "\n",
              "Labour force status (8) Gender (3)  Total - Labour force status  \\\n",
              "24907                      Women+                           0.0   \n",
              "24908                        Men+                           0.0   \n",
              "24909                      Women+                           0.0   \n",
              "24910                        Men+                           0.0   \n",
              "24911                      Women+                           0.0   \n",
              "\n",
              "Labour force status (8)  In the labour force  Employed  Unemployed  \\\n",
              "24907                                    0.0       0.0         0.0   \n",
              "24908                                    0.0       0.0         0.0   \n",
              "24909                                    0.0       0.0         0.0   \n",
              "24910                                    0.0       0.0         0.0   \n",
              "24911                                    0.0       0.0         0.0   \n",
              "\n",
              "Labour force status (8)  Not in the labour force  Participation rate  \\\n",
              "24907                                        0.0                 0.0   \n",
              "24908                                        0.0                 0.0   \n",
              "24909                                        0.0                 0.0   \n",
              "24910                                        0.0                 0.0   \n",
              "24911                                        0.0                 0.0   \n",
              "\n",
              "Labour force status (8)  Employment rate  Unemployment rate  \n",
              "24907                                0.0                0.0  \n",
              "24908                                0.0                0.0  \n",
              "24909                                0.0                0.0  \n",
              "24910                                0.0                0.0  \n",
              "24911                                0.0                0.0  "
            ],
            "text/html": [
              "\n",
              "  <div id=\"df-aa036e60-2ea3-4929-bc64-8faa7dc67c98\">\n",
              "    <div class=\"colab-df-container\">\n",
              "      <div>\n",
              "<style scoped>\n",
              "    .dataframe tbody tr th:only-of-type {\n",
              "        vertical-align: middle;\n",
              "    }\n",
              "\n",
              "    .dataframe tbody tr th {\n",
              "        vertical-align: top;\n",
              "    }\n",
              "\n",
              "    .dataframe thead th {\n",
              "        text-align: right;\n",
              "    }\n",
              "</style>\n",
              "<table border=\"1\" class=\"dataframe\">\n",
              "  <thead>\n",
              "    <tr style=\"text-align: right;\">\n",
              "      <th>Labour force status (8)</th>\n",
              "      <th>GEO</th>\n",
              "      <th>Visible minority (15)</th>\n",
              "      <th>Highest certificate, diploma or degree (7)</th>\n",
              "      <th>Gender (3)</th>\n",
              "      <th>Total - Labour force status</th>\n",
              "      <th>In the labour force</th>\n",
              "      <th>Employed</th>\n",
              "      <th>Unemployed</th>\n",
              "      <th>Not in the labour force</th>\n",
              "      <th>Participation rate</th>\n",
              "      <th>Employment rate</th>\n",
              "      <th>Unemployment rate</th>\n",
              "    </tr>\n",
              "  </thead>\n",
              "  <tbody>\n",
              "    <tr>\n",
              "      <th>24907</th>\n",
              "      <td>Yukon</td>\n",
              "      <td>West Asian</td>\n",
              "      <td>High (secondary) school diploma or equivalency...</td>\n",
              "      <td>Women+</td>\n",
              "      <td>0.0</td>\n",
              "      <td>0.0</td>\n",
              "      <td>0.0</td>\n",
              "      <td>0.0</td>\n",
              "      <td>0.0</td>\n",
              "      <td>0.0</td>\n",
              "      <td>0.0</td>\n",
              "      <td>0.0</td>\n",
              "    </tr>\n",
              "    <tr>\n",
              "      <th>24908</th>\n",
              "      <td>Yukon</td>\n",
              "      <td>West Asian</td>\n",
              "      <td>No certificate, diploma or degree</td>\n",
              "      <td>Men+</td>\n",
              "      <td>0.0</td>\n",
              "      <td>0.0</td>\n",
              "      <td>0.0</td>\n",
              "      <td>0.0</td>\n",
              "      <td>0.0</td>\n",
              "      <td>0.0</td>\n",
              "      <td>0.0</td>\n",
              "      <td>0.0</td>\n",
              "    </tr>\n",
              "    <tr>\n",
              "      <th>24909</th>\n",
              "      <td>Yukon</td>\n",
              "      <td>West Asian</td>\n",
              "      <td>No certificate, diploma or degree</td>\n",
              "      <td>Women+</td>\n",
              "      <td>0.0</td>\n",
              "      <td>0.0</td>\n",
              "      <td>0.0</td>\n",
              "      <td>0.0</td>\n",
              "      <td>0.0</td>\n",
              "      <td>0.0</td>\n",
              "      <td>0.0</td>\n",
              "      <td>0.0</td>\n",
              "    </tr>\n",
              "    <tr>\n",
              "      <th>24910</th>\n",
              "      <td>Yukon</td>\n",
              "      <td>West Asian</td>\n",
              "      <td>University certificate or diploma below bachel...</td>\n",
              "      <td>Men+</td>\n",
              "      <td>0.0</td>\n",
              "      <td>0.0</td>\n",
              "      <td>0.0</td>\n",
              "      <td>0.0</td>\n",
              "      <td>0.0</td>\n",
              "      <td>0.0</td>\n",
              "      <td>0.0</td>\n",
              "      <td>0.0</td>\n",
              "    </tr>\n",
              "    <tr>\n",
              "      <th>24911</th>\n",
              "      <td>Yukon</td>\n",
              "      <td>West Asian</td>\n",
              "      <td>University certificate or diploma below bachel...</td>\n",
              "      <td>Women+</td>\n",
              "      <td>0.0</td>\n",
              "      <td>0.0</td>\n",
              "      <td>0.0</td>\n",
              "      <td>0.0</td>\n",
              "      <td>0.0</td>\n",
              "      <td>0.0</td>\n",
              "      <td>0.0</td>\n",
              "      <td>0.0</td>\n",
              "    </tr>\n",
              "  </tbody>\n",
              "</table>\n",
              "</div>\n",
              "      <button class=\"colab-df-convert\" onclick=\"convertToInteractive('df-aa036e60-2ea3-4929-bc64-8faa7dc67c98')\"\n",
              "              title=\"Convert this dataframe to an interactive table.\"\n",
              "              style=\"display:none;\">\n",
              "        \n",
              "  <svg xmlns=\"http://www.w3.org/2000/svg\" height=\"24px\"viewBox=\"0 0 24 24\"\n",
              "       width=\"24px\">\n",
              "    <path d=\"M0 0h24v24H0V0z\" fill=\"none\"/>\n",
              "    <path d=\"M18.56 5.44l.94 2.06.94-2.06 2.06-.94-2.06-.94-.94-2.06-.94 2.06-2.06.94zm-11 1L8.5 8.5l.94-2.06 2.06-.94-2.06-.94L8.5 2.5l-.94 2.06-2.06.94zm10 10l.94 2.06.94-2.06 2.06-.94-2.06-.94-.94-2.06-.94 2.06-2.06.94z\"/><path d=\"M17.41 7.96l-1.37-1.37c-.4-.4-.92-.59-1.43-.59-.52 0-1.04.2-1.43.59L10.3 9.45l-7.72 7.72c-.78.78-.78 2.05 0 2.83L4 21.41c.39.39.9.59 1.41.59.51 0 1.02-.2 1.41-.59l7.78-7.78 2.81-2.81c.8-.78.8-2.07 0-2.86zM5.41 20L4 18.59l7.72-7.72 1.47 1.35L5.41 20z\"/>\n",
              "  </svg>\n",
              "      </button>\n",
              "      \n",
              "  <style>\n",
              "    .colab-df-container {\n",
              "      display:flex;\n",
              "      flex-wrap:wrap;\n",
              "      gap: 12px;\n",
              "    }\n",
              "\n",
              "    .colab-df-convert {\n",
              "      background-color: #E8F0FE;\n",
              "      border: none;\n",
              "      border-radius: 50%;\n",
              "      cursor: pointer;\n",
              "      display: none;\n",
              "      fill: #1967D2;\n",
              "      height: 32px;\n",
              "      padding: 0 0 0 0;\n",
              "      width: 32px;\n",
              "    }\n",
              "\n",
              "    .colab-df-convert:hover {\n",
              "      background-color: #E2EBFA;\n",
              "      box-shadow: 0px 1px 2px rgba(60, 64, 67, 0.3), 0px 1px 3px 1px rgba(60, 64, 67, 0.15);\n",
              "      fill: #174EA6;\n",
              "    }\n",
              "\n",
              "    [theme=dark] .colab-df-convert {\n",
              "      background-color: #3B4455;\n",
              "      fill: #D2E3FC;\n",
              "    }\n",
              "\n",
              "    [theme=dark] .colab-df-convert:hover {\n",
              "      background-color: #434B5C;\n",
              "      box-shadow: 0px 1px 3px 1px rgba(0, 0, 0, 0.15);\n",
              "      filter: drop-shadow(0px 1px 2px rgba(0, 0, 0, 0.3));\n",
              "      fill: #FFFFFF;\n",
              "    }\n",
              "  </style>\n",
              "\n",
              "      <script>\n",
              "        const buttonEl =\n",
              "          document.querySelector('#df-aa036e60-2ea3-4929-bc64-8faa7dc67c98 button.colab-df-convert');\n",
              "        buttonEl.style.display =\n",
              "          google.colab.kernel.accessAllowed ? 'block' : 'none';\n",
              "\n",
              "        async function convertToInteractive(key) {\n",
              "          const element = document.querySelector('#df-aa036e60-2ea3-4929-bc64-8faa7dc67c98');\n",
              "          const dataTable =\n",
              "            await google.colab.kernel.invokeFunction('convertToInteractive',\n",
              "                                                     [key], {});\n",
              "          if (!dataTable) return;\n",
              "\n",
              "          const docLinkHtml = 'Like what you see? Visit the ' +\n",
              "            '<a target=\"_blank\" href=https://colab.research.google.com/notebooks/data_table.ipynb>data table notebook</a>'\n",
              "            + ' to learn more about interactive tables.';\n",
              "          element.innerHTML = '';\n",
              "          dataTable['output_type'] = 'display_data';\n",
              "          await google.colab.output.renderOutput(dataTable, element);\n",
              "          const docLink = document.createElement('div');\n",
              "          docLink.innerHTML = docLinkHtml;\n",
              "          element.appendChild(docLink);\n",
              "        }\n",
              "      </script>\n",
              "    </div>\n",
              "  </div>\n",
              "  "
            ]
          },
          "metadata": {},
          "execution_count": 43
        }
      ]
    },
    {
      "cell_type": "code",
      "source": [
        "reshaped_df.info()"
      ],
      "metadata": {
        "colab": {
          "base_uri": "https://localhost:8080/"
        },
        "id": "HYCtAYSYR1eB",
        "outputId": "ad5c515c-ddf2-4dbc-d640-9d8de911ae78"
      },
      "execution_count": 42,
      "outputs": [
        {
          "output_type": "stream",
          "name": "stdout",
          "text": [
            "<class 'pandas.core.frame.DataFrame'>\n",
            "RangeIndex: 24912 entries, 0 to 24911\n",
            "Data columns (total 12 columns):\n",
            " #   Column                                      Non-Null Count  Dtype  \n",
            "---  ------                                      --------------  -----  \n",
            " 0   GEO                                         24912 non-null  object \n",
            " 1   Visible minority (15)                       24912 non-null  object \n",
            " 2   Highest certificate, diploma or degree (7)  24912 non-null  object \n",
            " 3   Gender (3)                                  24912 non-null  object \n",
            " 4   Total - Labour force status                 24912 non-null  float64\n",
            " 5   In the labour force                         24912 non-null  float64\n",
            " 6   Employed                                    24912 non-null  float64\n",
            " 7   Unemployed                                  24912 non-null  float64\n",
            " 8   Not in the labour force                     24912 non-null  float64\n",
            " 9   Participation rate                          24912 non-null  float64\n",
            " 10  Employment rate                             24912 non-null  float64\n",
            " 11  Unemployment rate                           24912 non-null  float64\n",
            "dtypes: float64(8), object(4)\n",
            "memory usage: 2.3+ MB\n"
          ]
        }
      ]
    },
    {
      "cell_type": "code",
      "source": [
        "column_name_mapping = { \n",
        "    'GEO': 'Canadian Province/CMA',\n",
        "    'Visible minority (15)': 'Visible minority',\n",
        "    'Gender (3)': 'Gender',\n",
        "    'Highest certificate, diploma or degree (7)': 'Highest certificate, diploma or degree'\n",
        "}\n",
        "\n",
        "cleaned_df = reshaped_df.rename(columns=column_name_mapping)"
      ],
      "metadata": {
        "id": "Nxx3bybASg0Y"
      },
      "execution_count": 46,
      "outputs": []
    },
    {
      "cell_type": "code",
      "source": [
        "cleaned_df.head()"
      ],
      "metadata": {
        "colab": {
          "base_uri": "https://localhost:8080/",
          "height": 562
        },
        "id": "WRLz71_CTSWZ",
        "outputId": "5169036c-d5e2-4f2f-b469-f44ac71f502d"
      },
      "execution_count": 47,
      "outputs": [
        {
          "output_type": "execute_result",
          "data": {
            "text/plain": [
              "Labour force status (8)             Canadian Province/CMA Visible minority  \\\n",
              "0                        Abbotsford - Mission (CMA), B.C.             Arab   \n",
              "1                        Abbotsford - Mission (CMA), B.C.             Arab   \n",
              "2                        Abbotsford - Mission (CMA), B.C.             Arab   \n",
              "3                        Abbotsford - Mission (CMA), B.C.             Arab   \n",
              "4                        Abbotsford - Mission (CMA), B.C.             Arab   \n",
              "\n",
              "Labour force status (8)             Highest certificate, diploma or degree  \\\n",
              "0                          Apprenticeship or trades certificate or diploma   \n",
              "1                          Apprenticeship or trades certificate or diploma   \n",
              "2                                              Bachelor's degree or higher   \n",
              "3                                              Bachelor's degree or higher   \n",
              "4                        College, CEGEP or other non-university certifi...   \n",
              "\n",
              "Labour force status (8)   Gender  Total - Labour force status  \\\n",
              "0                          Men+                           0.0   \n",
              "1                        Women+                           0.0   \n",
              "2                          Men+                          15.0   \n",
              "3                        Women+                          10.0   \n",
              "4                          Men+                          10.0   \n",
              "\n",
              "Labour force status (8)  In the labour force  Employed  Unemployed  \\\n",
              "0                                        0.0       0.0         0.0   \n",
              "1                                        0.0       0.0         0.0   \n",
              "2                                       15.0      15.0         0.0   \n",
              "3                                       10.0      10.0         0.0   \n",
              "4                                       10.0      10.0         0.0   \n",
              "\n",
              "Labour force status (8)  Not in the labour force  Participation rate  \\\n",
              "0                                            0.0                 0.0   \n",
              "1                                            0.0                 0.0   \n",
              "2                                            0.0               100.0   \n",
              "3                                            0.0               100.0   \n",
              "4                                            0.0               100.0   \n",
              "\n",
              "Labour force status (8)  Employment rate  Unemployment rate  \n",
              "0                                    0.0                0.0  \n",
              "1                                    0.0                0.0  \n",
              "2                                  100.0                0.0  \n",
              "3                                  100.0                0.0  \n",
              "4                                  100.0                0.0  "
            ],
            "text/html": [
              "\n",
              "  <div id=\"df-52cf7339-5882-4d19-85e1-64adbbb6d288\">\n",
              "    <div class=\"colab-df-container\">\n",
              "      <div>\n",
              "<style scoped>\n",
              "    .dataframe tbody tr th:only-of-type {\n",
              "        vertical-align: middle;\n",
              "    }\n",
              "\n",
              "    .dataframe tbody tr th {\n",
              "        vertical-align: top;\n",
              "    }\n",
              "\n",
              "    .dataframe thead th {\n",
              "        text-align: right;\n",
              "    }\n",
              "</style>\n",
              "<table border=\"1\" class=\"dataframe\">\n",
              "  <thead>\n",
              "    <tr style=\"text-align: right;\">\n",
              "      <th>Labour force status (8)</th>\n",
              "      <th>Canadian Province/CMA</th>\n",
              "      <th>Visible minority</th>\n",
              "      <th>Highest certificate, diploma or degree</th>\n",
              "      <th>Gender</th>\n",
              "      <th>Total - Labour force status</th>\n",
              "      <th>In the labour force</th>\n",
              "      <th>Employed</th>\n",
              "      <th>Unemployed</th>\n",
              "      <th>Not in the labour force</th>\n",
              "      <th>Participation rate</th>\n",
              "      <th>Employment rate</th>\n",
              "      <th>Unemployment rate</th>\n",
              "    </tr>\n",
              "  </thead>\n",
              "  <tbody>\n",
              "    <tr>\n",
              "      <th>0</th>\n",
              "      <td>Abbotsford - Mission (CMA), B.C.</td>\n",
              "      <td>Arab</td>\n",
              "      <td>Apprenticeship or trades certificate or diploma</td>\n",
              "      <td>Men+</td>\n",
              "      <td>0.0</td>\n",
              "      <td>0.0</td>\n",
              "      <td>0.0</td>\n",
              "      <td>0.0</td>\n",
              "      <td>0.0</td>\n",
              "      <td>0.0</td>\n",
              "      <td>0.0</td>\n",
              "      <td>0.0</td>\n",
              "    </tr>\n",
              "    <tr>\n",
              "      <th>1</th>\n",
              "      <td>Abbotsford - Mission (CMA), B.C.</td>\n",
              "      <td>Arab</td>\n",
              "      <td>Apprenticeship or trades certificate or diploma</td>\n",
              "      <td>Women+</td>\n",
              "      <td>0.0</td>\n",
              "      <td>0.0</td>\n",
              "      <td>0.0</td>\n",
              "      <td>0.0</td>\n",
              "      <td>0.0</td>\n",
              "      <td>0.0</td>\n",
              "      <td>0.0</td>\n",
              "      <td>0.0</td>\n",
              "    </tr>\n",
              "    <tr>\n",
              "      <th>2</th>\n",
              "      <td>Abbotsford - Mission (CMA), B.C.</td>\n",
              "      <td>Arab</td>\n",
              "      <td>Bachelor's degree or higher</td>\n",
              "      <td>Men+</td>\n",
              "      <td>15.0</td>\n",
              "      <td>15.0</td>\n",
              "      <td>15.0</td>\n",
              "      <td>0.0</td>\n",
              "      <td>0.0</td>\n",
              "      <td>100.0</td>\n",
              "      <td>100.0</td>\n",
              "      <td>0.0</td>\n",
              "    </tr>\n",
              "    <tr>\n",
              "      <th>3</th>\n",
              "      <td>Abbotsford - Mission (CMA), B.C.</td>\n",
              "      <td>Arab</td>\n",
              "      <td>Bachelor's degree or higher</td>\n",
              "      <td>Women+</td>\n",
              "      <td>10.0</td>\n",
              "      <td>10.0</td>\n",
              "      <td>10.0</td>\n",
              "      <td>0.0</td>\n",
              "      <td>0.0</td>\n",
              "      <td>100.0</td>\n",
              "      <td>100.0</td>\n",
              "      <td>0.0</td>\n",
              "    </tr>\n",
              "    <tr>\n",
              "      <th>4</th>\n",
              "      <td>Abbotsford - Mission (CMA), B.C.</td>\n",
              "      <td>Arab</td>\n",
              "      <td>College, CEGEP or other non-university certifi...</td>\n",
              "      <td>Men+</td>\n",
              "      <td>10.0</td>\n",
              "      <td>10.0</td>\n",
              "      <td>10.0</td>\n",
              "      <td>0.0</td>\n",
              "      <td>0.0</td>\n",
              "      <td>100.0</td>\n",
              "      <td>100.0</td>\n",
              "      <td>0.0</td>\n",
              "    </tr>\n",
              "  </tbody>\n",
              "</table>\n",
              "</div>\n",
              "      <button class=\"colab-df-convert\" onclick=\"convertToInteractive('df-52cf7339-5882-4d19-85e1-64adbbb6d288')\"\n",
              "              title=\"Convert this dataframe to an interactive table.\"\n",
              "              style=\"display:none;\">\n",
              "        \n",
              "  <svg xmlns=\"http://www.w3.org/2000/svg\" height=\"24px\"viewBox=\"0 0 24 24\"\n",
              "       width=\"24px\">\n",
              "    <path d=\"M0 0h24v24H0V0z\" fill=\"none\"/>\n",
              "    <path d=\"M18.56 5.44l.94 2.06.94-2.06 2.06-.94-2.06-.94-.94-2.06-.94 2.06-2.06.94zm-11 1L8.5 8.5l.94-2.06 2.06-.94-2.06-.94L8.5 2.5l-.94 2.06-2.06.94zm10 10l.94 2.06.94-2.06 2.06-.94-2.06-.94-.94-2.06-.94 2.06-2.06.94z\"/><path d=\"M17.41 7.96l-1.37-1.37c-.4-.4-.92-.59-1.43-.59-.52 0-1.04.2-1.43.59L10.3 9.45l-7.72 7.72c-.78.78-.78 2.05 0 2.83L4 21.41c.39.39.9.59 1.41.59.51 0 1.02-.2 1.41-.59l7.78-7.78 2.81-2.81c.8-.78.8-2.07 0-2.86zM5.41 20L4 18.59l7.72-7.72 1.47 1.35L5.41 20z\"/>\n",
              "  </svg>\n",
              "      </button>\n",
              "      \n",
              "  <style>\n",
              "    .colab-df-container {\n",
              "      display:flex;\n",
              "      flex-wrap:wrap;\n",
              "      gap: 12px;\n",
              "    }\n",
              "\n",
              "    .colab-df-convert {\n",
              "      background-color: #E8F0FE;\n",
              "      border: none;\n",
              "      border-radius: 50%;\n",
              "      cursor: pointer;\n",
              "      display: none;\n",
              "      fill: #1967D2;\n",
              "      height: 32px;\n",
              "      padding: 0 0 0 0;\n",
              "      width: 32px;\n",
              "    }\n",
              "\n",
              "    .colab-df-convert:hover {\n",
              "      background-color: #E2EBFA;\n",
              "      box-shadow: 0px 1px 2px rgba(60, 64, 67, 0.3), 0px 1px 3px 1px rgba(60, 64, 67, 0.15);\n",
              "      fill: #174EA6;\n",
              "    }\n",
              "\n",
              "    [theme=dark] .colab-df-convert {\n",
              "      background-color: #3B4455;\n",
              "      fill: #D2E3FC;\n",
              "    }\n",
              "\n",
              "    [theme=dark] .colab-df-convert:hover {\n",
              "      background-color: #434B5C;\n",
              "      box-shadow: 0px 1px 3px 1px rgba(0, 0, 0, 0.15);\n",
              "      filter: drop-shadow(0px 1px 2px rgba(0, 0, 0, 0.3));\n",
              "      fill: #FFFFFF;\n",
              "    }\n",
              "  </style>\n",
              "\n",
              "      <script>\n",
              "        const buttonEl =\n",
              "          document.querySelector('#df-52cf7339-5882-4d19-85e1-64adbbb6d288 button.colab-df-convert');\n",
              "        buttonEl.style.display =\n",
              "          google.colab.kernel.accessAllowed ? 'block' : 'none';\n",
              "\n",
              "        async function convertToInteractive(key) {\n",
              "          const element = document.querySelector('#df-52cf7339-5882-4d19-85e1-64adbbb6d288');\n",
              "          const dataTable =\n",
              "            await google.colab.kernel.invokeFunction('convertToInteractive',\n",
              "                                                     [key], {});\n",
              "          if (!dataTable) return;\n",
              "\n",
              "          const docLinkHtml = 'Like what you see? Visit the ' +\n",
              "            '<a target=\"_blank\" href=https://colab.research.google.com/notebooks/data_table.ipynb>data table notebook</a>'\n",
              "            + ' to learn more about interactive tables.';\n",
              "          element.innerHTML = '';\n",
              "          dataTable['output_type'] = 'display_data';\n",
              "          await google.colab.output.renderOutput(dataTable, element);\n",
              "          const docLink = document.createElement('div');\n",
              "          docLink.innerHTML = docLinkHtml;\n",
              "          element.appendChild(docLink);\n",
              "        }\n",
              "      </script>\n",
              "    </div>\n",
              "  </div>\n",
              "  "
            ]
          },
          "metadata": {},
          "execution_count": 47
        }
      ]
    },
    {
      "cell_type": "code",
      "source": [
        "cleaned_df.columns"
      ],
      "metadata": {
        "colab": {
          "base_uri": "https://localhost:8080/"
        },
        "id": "WECjGRXFTkih",
        "outputId": "44d652ad-7a3c-4223-d711-6b64607715af"
      },
      "execution_count": 48,
      "outputs": [
        {
          "output_type": "execute_result",
          "data": {
            "text/plain": [
              "Index(['Canadian Province/CMA', 'Visible minority',\n",
              "       'Highest certificate, diploma or degree', 'Gender',\n",
              "       'Total - Labour force status', 'In the labour force', 'Employed',\n",
              "       'Unemployed', 'Not in the labour force', 'Participation rate',\n",
              "       'Employment rate', 'Unemployment rate'],\n",
              "      dtype='object', name='Labour force status (8)')"
            ]
          },
          "metadata": {},
          "execution_count": 48
        }
      ]
    },
    {
      "cell_type": "code",
      "source": [
        "cleaned_df.to_csv('immigrant_education_statistics_d2.csv', index=False)"
      ],
      "metadata": {
        "id": "kRjBdnEgTovH"
      },
      "execution_count": 50,
      "outputs": []
    }
  ]
}