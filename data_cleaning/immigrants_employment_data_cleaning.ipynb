{
  "nbformat": 4,
  "nbformat_minor": 0,
  "metadata": {
    "colab": {
      "provenance": []
    },
    "kernelspec": {
      "name": "python3",
      "display_name": "Python 3"
    },
    "language_info": {
      "name": "python"
    }
  },
  "cells": [
    {
      "cell_type": "code",
      "execution_count": 1,
      "metadata": {
        "id": "XDVM_8OxKHp-"
      },
      "outputs": [],
      "source": [
        "import pandas as pd "
      ]
    },
    {
      "cell_type": "code",
      "source": [
        "edu_df = pd.read_csv('immigrant_education_employment_d2.csv', error_bad_lines=False)"
      ],
      "metadata": {
        "colab": {
          "base_uri": "https://localhost:8080/"
        },
        "id": "hXpGdA8aKpzy",
        "outputId": "356cd789-43a2-4911-ced3-ba6934244bbe"
      },
      "execution_count": 2,
      "outputs": [
        {
          "output_type": "stream",
          "name": "stderr",
          "text": [
            "<ipython-input-2-ab390f0152e4>:1: FutureWarning: The error_bad_lines argument has been deprecated and will be removed in a future version. Use on_bad_lines in the future.\n",
            "\n",
            "\n",
            "  edu_df = pd.read_csv('immigrant_education_employment_d2.csv', error_bad_lines=False)\n"
          ]
        }
      ]
    },
    {
      "cell_type": "code",
      "source": [
        "edu_df.info()"
      ],
      "metadata": {
        "colab": {
          "base_uri": "https://localhost:8080/"
        },
        "id": "9DkgRpAWKyv_",
        "outputId": "5dbf841b-d033-46c6-e49c-b109181e4039"
      },
      "execution_count": 3,
      "outputs": [
        {
          "output_type": "stream",
          "name": "stdout",
          "text": [
            "<class 'pandas.core.frame.DataFrame'>\n",
            "RangeIndex: 274248 entries, 0 to 274247\n",
            "Data columns (total 21 columns):\n",
            " #   Column                                           Non-Null Count   Dtype  \n",
            "---  ------                                           --------------   -----  \n",
            " 0   REF_DATE                                         274248 non-null  int64  \n",
            " 1   GEO                                              274248 non-null  object \n",
            " 2   DGUID                                            274248 non-null  object \n",
            " 3   Immigrant status and period of immigration (11)  274248 non-null  object \n",
            " 4   Highest certificate, diploma or degree (7)       274248 non-null  object \n",
            " 5   Age (15A)                                        274248 non-null  object \n",
            " 6   Gender (3)                                       274248 non-null  object \n",
            " 7   Statistics (3)                                   274248 non-null  object \n",
            " 8   Visible minority (15)                            274248 non-null  object \n",
            " 9   Labour force status (8)                          274248 non-null  object \n",
            " 10  UOM                                              0 non-null       float64\n",
            " 11  UOM_ID                                           274248 non-null  int64  \n",
            " 12  SCALAR_FACTOR                                    274248 non-null  object \n",
            " 13  SCALAR_ID                                        274248 non-null  int64  \n",
            " 14  VECTOR                                           0 non-null       float64\n",
            " 15  COORDINATE                                       274248 non-null  object \n",
            " 16  VALUE                                            274248 non-null  float64\n",
            " 17  STATUS                                           0 non-null       float64\n",
            " 18  SYMBOL                                           0 non-null       float64\n",
            " 19  TERMINATED                                       0 non-null       float64\n",
            " 20  DECIMALS                                         274248 non-null  int64  \n",
            "dtypes: float64(6), int64(4), object(11)\n",
            "memory usage: 43.9+ MB\n"
          ]
        }
      ]
    },
    {
      "cell_type": "code",
      "source": [
        "edu_df.head()"
      ],
      "metadata": {
        "id": "gg3p71hxK04R",
        "colab": {
          "base_uri": "https://localhost:8080/",
          "height": 716
        },
        "outputId": "8b83c4d4-8a4e-4cf1-9e53-b098fa2ea631"
      },
      "execution_count": 4,
      "outputs": [
        {
          "output_type": "execute_result",
          "data": {
            "text/plain": [
              "   REF_DATE     GEO           DGUID  \\\n",
              "0      2021  Canada  2021A000011124   \n",
              "1      2021  Canada  2021A000011124   \n",
              "2      2021  Canada  2021A000011124   \n",
              "3      2021  Canada  2021A000011124   \n",
              "4      2021  Canada  2021A000011124   \n",
              "\n",
              "     Immigrant status and period of immigration (11)  \\\n",
              "0  Total - Immigrant status and period of immigra...   \n",
              "1  Total - Immigrant status and period of immigra...   \n",
              "2  Total - Immigrant status and period of immigra...   \n",
              "3  Total - Immigrant status and period of immigra...   \n",
              "4  Total - Immigrant status and period of immigra...   \n",
              "\n",
              "  Highest certificate, diploma or degree (7)    Age (15A) Gender (3)  \\\n",
              "0          No certificate, diploma or degree  Total - Age      Men+    \n",
              "1          No certificate, diploma or degree  Total - Age      Men+    \n",
              "2          No certificate, diploma or degree  Total - Age      Men+    \n",
              "3          No certificate, diploma or degree  Total - Age      Men+    \n",
              "4          No certificate, diploma or degree  Total - Age      Men+    \n",
              "\n",
              "  Statistics (3)     Visible minority (15)      Labour force status (8)  ...  \\\n",
              "0          Count  Total - Visible minority  Total - Labour force status  ...   \n",
              "1          Count  Total - Visible minority          In the labour force  ...   \n",
              "2          Count  Total - Visible minority                     Employed  ...   \n",
              "3          Count  Total - Visible minority                   Unemployed  ...   \n",
              "4          Count  Total - Visible minority      Not in the labour force  ...   \n",
              "\n",
              "   UOM_ID  SCALAR_FACTOR SCALAR_ID  VECTOR       COORDINATE      VALUE  \\\n",
              "0       0          units         0     NaN  1.1.2.1.2.1.1.1  2534180.0   \n",
              "1       0          units         0     NaN  1.1.2.1.2.1.1.2  1098185.0   \n",
              "2       0          units         0     NaN  1.1.2.1.2.1.1.3   927930.0   \n",
              "3       0          units         0     NaN  1.1.2.1.2.1.1.4   170250.0   \n",
              "4       0          units         0     NaN  1.1.2.1.2.1.1.5  1435995.0   \n",
              "\n",
              "   STATUS  SYMBOL  TERMINATED  DECIMALS  \n",
              "0     NaN     NaN         NaN         0  \n",
              "1     NaN     NaN         NaN         0  \n",
              "2     NaN     NaN         NaN         0  \n",
              "3     NaN     NaN         NaN         0  \n",
              "4     NaN     NaN         NaN         0  \n",
              "\n",
              "[5 rows x 21 columns]"
            ],
            "text/html": [
              "\n",
              "  <div id=\"df-8b39fcca-5626-4c08-b4b2-b5676a431c79\">\n",
              "    <div class=\"colab-df-container\">\n",
              "      <div>\n",
              "<style scoped>\n",
              "    .dataframe tbody tr th:only-of-type {\n",
              "        vertical-align: middle;\n",
              "    }\n",
              "\n",
              "    .dataframe tbody tr th {\n",
              "        vertical-align: top;\n",
              "    }\n",
              "\n",
              "    .dataframe thead th {\n",
              "        text-align: right;\n",
              "    }\n",
              "</style>\n",
              "<table border=\"1\" class=\"dataframe\">\n",
              "  <thead>\n",
              "    <tr style=\"text-align: right;\">\n",
              "      <th></th>\n",
              "      <th>REF_DATE</th>\n",
              "      <th>GEO</th>\n",
              "      <th>DGUID</th>\n",
              "      <th>Immigrant status and period of immigration (11)</th>\n",
              "      <th>Highest certificate, diploma or degree (7)</th>\n",
              "      <th>Age (15A)</th>\n",
              "      <th>Gender (3)</th>\n",
              "      <th>Statistics (3)</th>\n",
              "      <th>Visible minority (15)</th>\n",
              "      <th>Labour force status (8)</th>\n",
              "      <th>...</th>\n",
              "      <th>UOM_ID</th>\n",
              "      <th>SCALAR_FACTOR</th>\n",
              "      <th>SCALAR_ID</th>\n",
              "      <th>VECTOR</th>\n",
              "      <th>COORDINATE</th>\n",
              "      <th>VALUE</th>\n",
              "      <th>STATUS</th>\n",
              "      <th>SYMBOL</th>\n",
              "      <th>TERMINATED</th>\n",
              "      <th>DECIMALS</th>\n",
              "    </tr>\n",
              "  </thead>\n",
              "  <tbody>\n",
              "    <tr>\n",
              "      <th>0</th>\n",
              "      <td>2021</td>\n",
              "      <td>Canada</td>\n",
              "      <td>2021A000011124</td>\n",
              "      <td>Total - Immigrant status and period of immigra...</td>\n",
              "      <td>No certificate, diploma or degree</td>\n",
              "      <td>Total - Age</td>\n",
              "      <td>Men+</td>\n",
              "      <td>Count</td>\n",
              "      <td>Total - Visible minority</td>\n",
              "      <td>Total - Labour force status</td>\n",
              "      <td>...</td>\n",
              "      <td>0</td>\n",
              "      <td>units</td>\n",
              "      <td>0</td>\n",
              "      <td>NaN</td>\n",
              "      <td>1.1.2.1.2.1.1.1</td>\n",
              "      <td>2534180.0</td>\n",
              "      <td>NaN</td>\n",
              "      <td>NaN</td>\n",
              "      <td>NaN</td>\n",
              "      <td>0</td>\n",
              "    </tr>\n",
              "    <tr>\n",
              "      <th>1</th>\n",
              "      <td>2021</td>\n",
              "      <td>Canada</td>\n",
              "      <td>2021A000011124</td>\n",
              "      <td>Total - Immigrant status and period of immigra...</td>\n",
              "      <td>No certificate, diploma or degree</td>\n",
              "      <td>Total - Age</td>\n",
              "      <td>Men+</td>\n",
              "      <td>Count</td>\n",
              "      <td>Total - Visible minority</td>\n",
              "      <td>In the labour force</td>\n",
              "      <td>...</td>\n",
              "      <td>0</td>\n",
              "      <td>units</td>\n",
              "      <td>0</td>\n",
              "      <td>NaN</td>\n",
              "      <td>1.1.2.1.2.1.1.2</td>\n",
              "      <td>1098185.0</td>\n",
              "      <td>NaN</td>\n",
              "      <td>NaN</td>\n",
              "      <td>NaN</td>\n",
              "      <td>0</td>\n",
              "    </tr>\n",
              "    <tr>\n",
              "      <th>2</th>\n",
              "      <td>2021</td>\n",
              "      <td>Canada</td>\n",
              "      <td>2021A000011124</td>\n",
              "      <td>Total - Immigrant status and period of immigra...</td>\n",
              "      <td>No certificate, diploma or degree</td>\n",
              "      <td>Total - Age</td>\n",
              "      <td>Men+</td>\n",
              "      <td>Count</td>\n",
              "      <td>Total - Visible minority</td>\n",
              "      <td>Employed</td>\n",
              "      <td>...</td>\n",
              "      <td>0</td>\n",
              "      <td>units</td>\n",
              "      <td>0</td>\n",
              "      <td>NaN</td>\n",
              "      <td>1.1.2.1.2.1.1.3</td>\n",
              "      <td>927930.0</td>\n",
              "      <td>NaN</td>\n",
              "      <td>NaN</td>\n",
              "      <td>NaN</td>\n",
              "      <td>0</td>\n",
              "    </tr>\n",
              "    <tr>\n",
              "      <th>3</th>\n",
              "      <td>2021</td>\n",
              "      <td>Canada</td>\n",
              "      <td>2021A000011124</td>\n",
              "      <td>Total - Immigrant status and period of immigra...</td>\n",
              "      <td>No certificate, diploma or degree</td>\n",
              "      <td>Total - Age</td>\n",
              "      <td>Men+</td>\n",
              "      <td>Count</td>\n",
              "      <td>Total - Visible minority</td>\n",
              "      <td>Unemployed</td>\n",
              "      <td>...</td>\n",
              "      <td>0</td>\n",
              "      <td>units</td>\n",
              "      <td>0</td>\n",
              "      <td>NaN</td>\n",
              "      <td>1.1.2.1.2.1.1.4</td>\n",
              "      <td>170250.0</td>\n",
              "      <td>NaN</td>\n",
              "      <td>NaN</td>\n",
              "      <td>NaN</td>\n",
              "      <td>0</td>\n",
              "    </tr>\n",
              "    <tr>\n",
              "      <th>4</th>\n",
              "      <td>2021</td>\n",
              "      <td>Canada</td>\n",
              "      <td>2021A000011124</td>\n",
              "      <td>Total - Immigrant status and period of immigra...</td>\n",
              "      <td>No certificate, diploma or degree</td>\n",
              "      <td>Total - Age</td>\n",
              "      <td>Men+</td>\n",
              "      <td>Count</td>\n",
              "      <td>Total - Visible minority</td>\n",
              "      <td>Not in the labour force</td>\n",
              "      <td>...</td>\n",
              "      <td>0</td>\n",
              "      <td>units</td>\n",
              "      <td>0</td>\n",
              "      <td>NaN</td>\n",
              "      <td>1.1.2.1.2.1.1.5</td>\n",
              "      <td>1435995.0</td>\n",
              "      <td>NaN</td>\n",
              "      <td>NaN</td>\n",
              "      <td>NaN</td>\n",
              "      <td>0</td>\n",
              "    </tr>\n",
              "  </tbody>\n",
              "</table>\n",
              "<p>5 rows × 21 columns</p>\n",
              "</div>\n",
              "      <button class=\"colab-df-convert\" onclick=\"convertToInteractive('df-8b39fcca-5626-4c08-b4b2-b5676a431c79')\"\n",
              "              title=\"Convert this dataframe to an interactive table.\"\n",
              "              style=\"display:none;\">\n",
              "        \n",
              "  <svg xmlns=\"http://www.w3.org/2000/svg\" height=\"24px\"viewBox=\"0 0 24 24\"\n",
              "       width=\"24px\">\n",
              "    <path d=\"M0 0h24v24H0V0z\" fill=\"none\"/>\n",
              "    <path d=\"M18.56 5.44l.94 2.06.94-2.06 2.06-.94-2.06-.94-.94-2.06-.94 2.06-2.06.94zm-11 1L8.5 8.5l.94-2.06 2.06-.94-2.06-.94L8.5 2.5l-.94 2.06-2.06.94zm10 10l.94 2.06.94-2.06 2.06-.94-2.06-.94-.94-2.06-.94 2.06-2.06.94z\"/><path d=\"M17.41 7.96l-1.37-1.37c-.4-.4-.92-.59-1.43-.59-.52 0-1.04.2-1.43.59L10.3 9.45l-7.72 7.72c-.78.78-.78 2.05 0 2.83L4 21.41c.39.39.9.59 1.41.59.51 0 1.02-.2 1.41-.59l7.78-7.78 2.81-2.81c.8-.78.8-2.07 0-2.86zM5.41 20L4 18.59l7.72-7.72 1.47 1.35L5.41 20z\"/>\n",
              "  </svg>\n",
              "      </button>\n",
              "      \n",
              "  <style>\n",
              "    .colab-df-container {\n",
              "      display:flex;\n",
              "      flex-wrap:wrap;\n",
              "      gap: 12px;\n",
              "    }\n",
              "\n",
              "    .colab-df-convert {\n",
              "      background-color: #E8F0FE;\n",
              "      border: none;\n",
              "      border-radius: 50%;\n",
              "      cursor: pointer;\n",
              "      display: none;\n",
              "      fill: #1967D2;\n",
              "      height: 32px;\n",
              "      padding: 0 0 0 0;\n",
              "      width: 32px;\n",
              "    }\n",
              "\n",
              "    .colab-df-convert:hover {\n",
              "      background-color: #E2EBFA;\n",
              "      box-shadow: 0px 1px 2px rgba(60, 64, 67, 0.3), 0px 1px 3px 1px rgba(60, 64, 67, 0.15);\n",
              "      fill: #174EA6;\n",
              "    }\n",
              "\n",
              "    [theme=dark] .colab-df-convert {\n",
              "      background-color: #3B4455;\n",
              "      fill: #D2E3FC;\n",
              "    }\n",
              "\n",
              "    [theme=dark] .colab-df-convert:hover {\n",
              "      background-color: #434B5C;\n",
              "      box-shadow: 0px 1px 3px 1px rgba(0, 0, 0, 0.15);\n",
              "      filter: drop-shadow(0px 1px 2px rgba(0, 0, 0, 0.3));\n",
              "      fill: #FFFFFF;\n",
              "    }\n",
              "  </style>\n",
              "\n",
              "      <script>\n",
              "        const buttonEl =\n",
              "          document.querySelector('#df-8b39fcca-5626-4c08-b4b2-b5676a431c79 button.colab-df-convert');\n",
              "        buttonEl.style.display =\n",
              "          google.colab.kernel.accessAllowed ? 'block' : 'none';\n",
              "\n",
              "        async function convertToInteractive(key) {\n",
              "          const element = document.querySelector('#df-8b39fcca-5626-4c08-b4b2-b5676a431c79');\n",
              "          const dataTable =\n",
              "            await google.colab.kernel.invokeFunction('convertToInteractive',\n",
              "                                                     [key], {});\n",
              "          if (!dataTable) return;\n",
              "\n",
              "          const docLinkHtml = 'Like what you see? Visit the ' +\n",
              "            '<a target=\"_blank\" href=https://colab.research.google.com/notebooks/data_table.ipynb>data table notebook</a>'\n",
              "            + ' to learn more about interactive tables.';\n",
              "          element.innerHTML = '';\n",
              "          dataTable['output_type'] = 'display_data';\n",
              "          await google.colab.output.renderOutput(dataTable, element);\n",
              "          const docLink = document.createElement('div');\n",
              "          docLink.innerHTML = docLinkHtml;\n",
              "          element.appendChild(docLink);\n",
              "        }\n",
              "      </script>\n",
              "    </div>\n",
              "  </div>\n",
              "  "
            ]
          },
          "metadata": {},
          "execution_count": 4
        }
      ]
    },
    {
      "cell_type": "code",
      "source": [
        "edu_df.columns"
      ],
      "metadata": {
        "colab": {
          "base_uri": "https://localhost:8080/"
        },
        "id": "YNA1fxopK2Ki",
        "outputId": "03dad1c7-61b8-408a-a149-7a5d87639da9"
      },
      "execution_count": 5,
      "outputs": [
        {
          "output_type": "execute_result",
          "data": {
            "text/plain": [
              "Index(['REF_DATE', 'GEO', 'DGUID',\n",
              "       'Immigrant status and period of immigration (11)',\n",
              "       'Highest certificate, diploma or degree (7)', 'Age (15A)', 'Gender (3)',\n",
              "       'Statistics (3)', 'Visible minority (15)', 'Labour force status (8)',\n",
              "       'UOM', 'UOM_ID', 'SCALAR_FACTOR', 'SCALAR_ID', 'VECTOR', 'COORDINATE',\n",
              "       'VALUE', 'STATUS', 'SYMBOL', 'TERMINATED', 'DECIMALS'],\n",
              "      dtype='object')"
            ]
          },
          "metadata": {},
          "execution_count": 5
        }
      ]
    },
    {
      "cell_type": "code",
      "source": [
        "filtered_df = edu_df[['GEO', 'Immigrant status and period of immigration (11)', 'Visible minority (15)',\n",
        "       'Highest certificate, diploma or degree (7)', 'Gender (3)', 'Labour force status (8)','VALUE']]"
      ],
      "metadata": {
        "id": "4G8ahpgbLM8b"
      },
      "execution_count": 6,
      "outputs": []
    },
    {
      "cell_type": "code",
      "source": [
        "filtered_df.head(10)"
      ],
      "metadata": {
        "colab": {
          "base_uri": "https://localhost:8080/",
          "height": 598
        },
        "outputId": "2205c0ed-d169-4252-e7b4-19018be98efb",
        "id": "rO0QJyqpLkgv"
      },
      "execution_count": 7,
      "outputs": [
        {
          "output_type": "execute_result",
          "data": {
            "text/plain": [
              "      GEO    Immigrant status and period of immigration (11)  \\\n",
              "0  Canada  Total - Immigrant status and period of immigra...   \n",
              "1  Canada  Total - Immigrant status and period of immigra...   \n",
              "2  Canada  Total - Immigrant status and period of immigra...   \n",
              "3  Canada  Total - Immigrant status and period of immigra...   \n",
              "4  Canada  Total - Immigrant status and period of immigra...   \n",
              "5  Canada  Total - Immigrant status and period of immigra...   \n",
              "6  Canada  Total - Immigrant status and period of immigra...   \n",
              "7  Canada  Total - Immigrant status and period of immigra...   \n",
              "8  Canada  Total - Immigrant status and period of immigra...   \n",
              "9  Canada  Total - Immigrant status and period of immigra...   \n",
              "\n",
              "               Visible minority (15)  \\\n",
              "0           Total - Visible minority   \n",
              "1           Total - Visible minority   \n",
              "2           Total - Visible minority   \n",
              "3           Total - Visible minority   \n",
              "4           Total - Visible minority   \n",
              "5           Total - Visible minority   \n",
              "6           Total - Visible minority   \n",
              "7           Total - Visible minority   \n",
              "8  Total visible minority population   \n",
              "9  Total visible minority population   \n",
              "\n",
              "  Highest certificate, diploma or degree (7) Gender (3)  \\\n",
              "0          No certificate, diploma or degree      Men+    \n",
              "1          No certificate, diploma or degree      Men+    \n",
              "2          No certificate, diploma or degree      Men+    \n",
              "3          No certificate, diploma or degree      Men+    \n",
              "4          No certificate, diploma or degree      Men+    \n",
              "5          No certificate, diploma or degree      Men+    \n",
              "6          No certificate, diploma or degree      Men+    \n",
              "7          No certificate, diploma or degree      Men+    \n",
              "8          No certificate, diploma or degree      Men+    \n",
              "9          No certificate, diploma or degree      Men+    \n",
              "\n",
              "       Labour force status (8)      VALUE  \n",
              "0  Total - Labour force status  2534180.0  \n",
              "1          In the labour force  1098185.0  \n",
              "2                     Employed   927930.0  \n",
              "3                   Unemployed   170250.0  \n",
              "4      Not in the labour force  1435995.0  \n",
              "5           Participation rate       43.3  \n",
              "6              Employment rate       36.6  \n",
              "7            Unemployment rate       15.5  \n",
              "8  Total - Labour force status   536095.0  \n",
              "9          In the labour force   225910.0  "
            ],
            "text/html": [
              "\n",
              "  <div id=\"df-695ad660-7fe4-4986-bf1f-7a85828df0d8\">\n",
              "    <div class=\"colab-df-container\">\n",
              "      <div>\n",
              "<style scoped>\n",
              "    .dataframe tbody tr th:only-of-type {\n",
              "        vertical-align: middle;\n",
              "    }\n",
              "\n",
              "    .dataframe tbody tr th {\n",
              "        vertical-align: top;\n",
              "    }\n",
              "\n",
              "    .dataframe thead th {\n",
              "        text-align: right;\n",
              "    }\n",
              "</style>\n",
              "<table border=\"1\" class=\"dataframe\">\n",
              "  <thead>\n",
              "    <tr style=\"text-align: right;\">\n",
              "      <th></th>\n",
              "      <th>GEO</th>\n",
              "      <th>Immigrant status and period of immigration (11)</th>\n",
              "      <th>Visible minority (15)</th>\n",
              "      <th>Highest certificate, diploma or degree (7)</th>\n",
              "      <th>Gender (3)</th>\n",
              "      <th>Labour force status (8)</th>\n",
              "      <th>VALUE</th>\n",
              "    </tr>\n",
              "  </thead>\n",
              "  <tbody>\n",
              "    <tr>\n",
              "      <th>0</th>\n",
              "      <td>Canada</td>\n",
              "      <td>Total - Immigrant status and period of immigra...</td>\n",
              "      <td>Total - Visible minority</td>\n",
              "      <td>No certificate, diploma or degree</td>\n",
              "      <td>Men+</td>\n",
              "      <td>Total - Labour force status</td>\n",
              "      <td>2534180.0</td>\n",
              "    </tr>\n",
              "    <tr>\n",
              "      <th>1</th>\n",
              "      <td>Canada</td>\n",
              "      <td>Total - Immigrant status and period of immigra...</td>\n",
              "      <td>Total - Visible minority</td>\n",
              "      <td>No certificate, diploma or degree</td>\n",
              "      <td>Men+</td>\n",
              "      <td>In the labour force</td>\n",
              "      <td>1098185.0</td>\n",
              "    </tr>\n",
              "    <tr>\n",
              "      <th>2</th>\n",
              "      <td>Canada</td>\n",
              "      <td>Total - Immigrant status and period of immigra...</td>\n",
              "      <td>Total - Visible minority</td>\n",
              "      <td>No certificate, diploma or degree</td>\n",
              "      <td>Men+</td>\n",
              "      <td>Employed</td>\n",
              "      <td>927930.0</td>\n",
              "    </tr>\n",
              "    <tr>\n",
              "      <th>3</th>\n",
              "      <td>Canada</td>\n",
              "      <td>Total - Immigrant status and period of immigra...</td>\n",
              "      <td>Total - Visible minority</td>\n",
              "      <td>No certificate, diploma or degree</td>\n",
              "      <td>Men+</td>\n",
              "      <td>Unemployed</td>\n",
              "      <td>170250.0</td>\n",
              "    </tr>\n",
              "    <tr>\n",
              "      <th>4</th>\n",
              "      <td>Canada</td>\n",
              "      <td>Total - Immigrant status and period of immigra...</td>\n",
              "      <td>Total - Visible minority</td>\n",
              "      <td>No certificate, diploma or degree</td>\n",
              "      <td>Men+</td>\n",
              "      <td>Not in the labour force</td>\n",
              "      <td>1435995.0</td>\n",
              "    </tr>\n",
              "    <tr>\n",
              "      <th>5</th>\n",
              "      <td>Canada</td>\n",
              "      <td>Total - Immigrant status and period of immigra...</td>\n",
              "      <td>Total - Visible minority</td>\n",
              "      <td>No certificate, diploma or degree</td>\n",
              "      <td>Men+</td>\n",
              "      <td>Participation rate</td>\n",
              "      <td>43.3</td>\n",
              "    </tr>\n",
              "    <tr>\n",
              "      <th>6</th>\n",
              "      <td>Canada</td>\n",
              "      <td>Total - Immigrant status and period of immigra...</td>\n",
              "      <td>Total - Visible minority</td>\n",
              "      <td>No certificate, diploma or degree</td>\n",
              "      <td>Men+</td>\n",
              "      <td>Employment rate</td>\n",
              "      <td>36.6</td>\n",
              "    </tr>\n",
              "    <tr>\n",
              "      <th>7</th>\n",
              "      <td>Canada</td>\n",
              "      <td>Total - Immigrant status and period of immigra...</td>\n",
              "      <td>Total - Visible minority</td>\n",
              "      <td>No certificate, diploma or degree</td>\n",
              "      <td>Men+</td>\n",
              "      <td>Unemployment rate</td>\n",
              "      <td>15.5</td>\n",
              "    </tr>\n",
              "    <tr>\n",
              "      <th>8</th>\n",
              "      <td>Canada</td>\n",
              "      <td>Total - Immigrant status and period of immigra...</td>\n",
              "      <td>Total visible minority population</td>\n",
              "      <td>No certificate, diploma or degree</td>\n",
              "      <td>Men+</td>\n",
              "      <td>Total - Labour force status</td>\n",
              "      <td>536095.0</td>\n",
              "    </tr>\n",
              "    <tr>\n",
              "      <th>9</th>\n",
              "      <td>Canada</td>\n",
              "      <td>Total - Immigrant status and period of immigra...</td>\n",
              "      <td>Total visible minority population</td>\n",
              "      <td>No certificate, diploma or degree</td>\n",
              "      <td>Men+</td>\n",
              "      <td>In the labour force</td>\n",
              "      <td>225910.0</td>\n",
              "    </tr>\n",
              "  </tbody>\n",
              "</table>\n",
              "</div>\n",
              "      <button class=\"colab-df-convert\" onclick=\"convertToInteractive('df-695ad660-7fe4-4986-bf1f-7a85828df0d8')\"\n",
              "              title=\"Convert this dataframe to an interactive table.\"\n",
              "              style=\"display:none;\">\n",
              "        \n",
              "  <svg xmlns=\"http://www.w3.org/2000/svg\" height=\"24px\"viewBox=\"0 0 24 24\"\n",
              "       width=\"24px\">\n",
              "    <path d=\"M0 0h24v24H0V0z\" fill=\"none\"/>\n",
              "    <path d=\"M18.56 5.44l.94 2.06.94-2.06 2.06-.94-2.06-.94-.94-2.06-.94 2.06-2.06.94zm-11 1L8.5 8.5l.94-2.06 2.06-.94-2.06-.94L8.5 2.5l-.94 2.06-2.06.94zm10 10l.94 2.06.94-2.06 2.06-.94-2.06-.94-.94-2.06-.94 2.06-2.06.94z\"/><path d=\"M17.41 7.96l-1.37-1.37c-.4-.4-.92-.59-1.43-.59-.52 0-1.04.2-1.43.59L10.3 9.45l-7.72 7.72c-.78.78-.78 2.05 0 2.83L4 21.41c.39.39.9.59 1.41.59.51 0 1.02-.2 1.41-.59l7.78-7.78 2.81-2.81c.8-.78.8-2.07 0-2.86zM5.41 20L4 18.59l7.72-7.72 1.47 1.35L5.41 20z\"/>\n",
              "  </svg>\n",
              "      </button>\n",
              "      \n",
              "  <style>\n",
              "    .colab-df-container {\n",
              "      display:flex;\n",
              "      flex-wrap:wrap;\n",
              "      gap: 12px;\n",
              "    }\n",
              "\n",
              "    .colab-df-convert {\n",
              "      background-color: #E8F0FE;\n",
              "      border: none;\n",
              "      border-radius: 50%;\n",
              "      cursor: pointer;\n",
              "      display: none;\n",
              "      fill: #1967D2;\n",
              "      height: 32px;\n",
              "      padding: 0 0 0 0;\n",
              "      width: 32px;\n",
              "    }\n",
              "\n",
              "    .colab-df-convert:hover {\n",
              "      background-color: #E2EBFA;\n",
              "      box-shadow: 0px 1px 2px rgba(60, 64, 67, 0.3), 0px 1px 3px 1px rgba(60, 64, 67, 0.15);\n",
              "      fill: #174EA6;\n",
              "    }\n",
              "\n",
              "    [theme=dark] .colab-df-convert {\n",
              "      background-color: #3B4455;\n",
              "      fill: #D2E3FC;\n",
              "    }\n",
              "\n",
              "    [theme=dark] .colab-df-convert:hover {\n",
              "      background-color: #434B5C;\n",
              "      box-shadow: 0px 1px 3px 1px rgba(0, 0, 0, 0.15);\n",
              "      filter: drop-shadow(0px 1px 2px rgba(0, 0, 0, 0.3));\n",
              "      fill: #FFFFFF;\n",
              "    }\n",
              "  </style>\n",
              "\n",
              "      <script>\n",
              "        const buttonEl =\n",
              "          document.querySelector('#df-695ad660-7fe4-4986-bf1f-7a85828df0d8 button.colab-df-convert');\n",
              "        buttonEl.style.display =\n",
              "          google.colab.kernel.accessAllowed ? 'block' : 'none';\n",
              "\n",
              "        async function convertToInteractive(key) {\n",
              "          const element = document.querySelector('#df-695ad660-7fe4-4986-bf1f-7a85828df0d8');\n",
              "          const dataTable =\n",
              "            await google.colab.kernel.invokeFunction('convertToInteractive',\n",
              "                                                     [key], {});\n",
              "          if (!dataTable) return;\n",
              "\n",
              "          const docLinkHtml = 'Like what you see? Visit the ' +\n",
              "            '<a target=\"_blank\" href=https://colab.research.google.com/notebooks/data_table.ipynb>data table notebook</a>'\n",
              "            + ' to learn more about interactive tables.';\n",
              "          element.innerHTML = '';\n",
              "          dataTable['output_type'] = 'display_data';\n",
              "          await google.colab.output.renderOutput(dataTable, element);\n",
              "          const docLink = document.createElement('div');\n",
              "          docLink.innerHTML = docLinkHtml;\n",
              "          element.appendChild(docLink);\n",
              "        }\n",
              "      </script>\n",
              "    </div>\n",
              "  </div>\n",
              "  "
            ]
          },
          "metadata": {},
          "execution_count": 7
        }
      ]
    },
    {
      "cell_type": "code",
      "source": [
        "filtered_df['Immigrant status and period of immigration (11)'].unique()"
      ],
      "metadata": {
        "colab": {
          "base_uri": "https://localhost:8080/"
        },
        "id": "aQvVVOurMXgl",
        "outputId": "ae826004-5576-4922-df0f-45e1bc559155"
      },
      "execution_count": 8,
      "outputs": [
        {
          "output_type": "execute_result",
          "data": {
            "text/plain": [
              "array(['Total - Immigrant status and period of immigration',\n",
              "       '2016 to 2021'], dtype=object)"
            ]
          },
          "metadata": {},
          "execution_count": 8
        }
      ]
    },
    {
      "cell_type": "code",
      "source": [
        "filtered_df['Visible minority (15)'].unique()"
      ],
      "metadata": {
        "colab": {
          "base_uri": "https://localhost:8080/"
        },
        "id": "dHiVY-11MgBY",
        "outputId": "dc2aaff8-3b7d-44e4-ebd4-ed71696abdc4"
      },
      "execution_count": 9,
      "outputs": [
        {
          "output_type": "execute_result",
          "data": {
            "text/plain": [
              "array(['Total - Visible minority', 'Total visible minority population',\n",
              "       'South Asian', 'Chinese', 'Black', 'Filipino', 'Arab',\n",
              "       'Latin American', 'Southeast Asian', 'West Asian', 'Korean',\n",
              "       'Japanese', 'Visible minority, n.i.e.',\n",
              "       'Multiple visible minorities'], dtype=object)"
            ]
          },
          "metadata": {},
          "execution_count": 9
        }
      ]
    },
    {
      "cell_type": "code",
      "source": [
        "filtered_df['Gender (3)'].unique()"
      ],
      "metadata": {
        "colab": {
          "base_uri": "https://localhost:8080/"
        },
        "id": "c5EysiX7Owby",
        "outputId": "44f622da-7609-426a-f49c-9af0c16b06a7"
      },
      "execution_count": 10,
      "outputs": [
        {
          "output_type": "execute_result",
          "data": {
            "text/plain": [
              "array(['Men+ ', 'Women+ '], dtype=object)"
            ]
          },
          "metadata": {},
          "execution_count": 10
        }
      ]
    },
    {
      "cell_type": "code",
      "source": [
        "filtered_df['Labour force status (8)'].unique()"
      ],
      "metadata": {
        "colab": {
          "base_uri": "https://localhost:8080/"
        },
        "id": "L0LwuW-FO1MW",
        "outputId": "e0b19d76-35a9-49d5-80cb-c4e856ed35f9"
      },
      "execution_count": 11,
      "outputs": [
        {
          "output_type": "execute_result",
          "data": {
            "text/plain": [
              "array(['Total - Labour force status', 'In the labour force', 'Employed',\n",
              "       'Unemployed', 'Not in the labour force', 'Participation rate',\n",
              "       'Employment rate', 'Unemployment rate'], dtype=object)"
            ]
          },
          "metadata": {},
          "execution_count": 11
        }
      ]
    },
    {
      "cell_type": "code",
      "source": [
        "#remove rows with 'GEO' in the column \n",
        "\n",
        "filtered_df = filtered_df[filtered_df['GEO'] != 'Canada']"
      ],
      "metadata": {
        "id": "31E98meYQIds"
      },
      "execution_count": 12,
      "outputs": []
    },
    {
      "cell_type": "code",
      "source": [
        "#remove rows with 'Total - Immigrant status and period of immigration' in the column \n",
        "\n",
        "filtered_df = filtered_df[filtered_df['Immigrant status and period of immigration (11)'] != 'Total - Immigrant status and period of immigration']"
      ],
      "metadata": {
        "id": "Mqg4j3-kM0ny"
      },
      "execution_count": 13,
      "outputs": []
    },
    {
      "cell_type": "code",
      "source": [
        "#remove rows from ''Visible minority (15)' column\n",
        "\n",
        "filtered_df = filtered_df[(filtered_df['Visible minority (15)'] != 'Total - Visible minority') & (filtered_df['Visible minority (15)'] != 'Total visible minority population')]\n"
      ],
      "metadata": {
        "id": "pr2ucXGBNC3Q"
      },
      "execution_count": 14,
      "outputs": []
    },
    {
      "cell_type": "code",
      "source": [
        "# remove column - 'Immigrant status and period of immigration (11)'\n",
        "\n",
        "filtered_df = filtered_df[['GEO',  'Visible minority (15)',\n",
        "       'Highest certificate, diploma or degree (7)', 'Gender (3)', 'Labour force status (8)','VALUE']]"
      ],
      "metadata": {
        "id": "l7ZbaLpvNCEB"
      },
      "execution_count": 15,
      "outputs": []
    },
    {
      "cell_type": "code",
      "source": [
        "filtered_df.info()"
      ],
      "metadata": {
        "colab": {
          "base_uri": "https://localhost:8080/"
        },
        "id": "qsjCWF9sM_YJ",
        "outputId": "42d74cce-9345-42b5-8bfd-36c8657e2657"
      },
      "execution_count": 16,
      "outputs": [
        {
          "output_type": "stream",
          "name": "stdout",
          "text": [
            "<class 'pandas.core.frame.DataFrame'>\n",
            "Int64Index: 95780 entries, 3713 to 274247\n",
            "Data columns (total 6 columns):\n",
            " #   Column                                      Non-Null Count  Dtype  \n",
            "---  ------                                      --------------  -----  \n",
            " 0   GEO                                         95780 non-null  object \n",
            " 1   Visible minority (15)                       95780 non-null  object \n",
            " 2   Highest certificate, diploma or degree (7)  95780 non-null  object \n",
            " 3   Gender (3)                                  95780 non-null  object \n",
            " 4   Labour force status (8)                     95780 non-null  object \n",
            " 5   VALUE                                       95780 non-null  float64\n",
            "dtypes: float64(1), object(5)\n",
            "memory usage: 5.1+ MB\n"
          ]
        }
      ]
    },
    {
      "cell_type": "code",
      "source": [
        "reshaped_df = filtered_df.pivot_table(index=['GEO', 'Visible minority (15)', 'Highest certificate, diploma or degree (7)', 'Gender (3)'],\n",
        "                             columns='Labour force status (8)',\n",
        "                             values='VALUE').reset_index()\n",
        "\n",
        "\n",
        "sorted_columns = ['GEO', 'Visible minority (15)', 'Highest certificate, diploma or degree (7)', 'Gender (3)',\n",
        "                  'Total - Labour force status', 'In the labour force', 'Employed', 'Unemployed',\n",
        "                  'Not in the labour force', 'Participation rate', 'Employment rate', 'Unemployment rate']\n",
        "                  \n",
        "reshaped_df = reshaped_df.reindex(columns=sorted_columns)"
      ],
      "metadata": {
        "id": "OLmUIQCkRb2K"
      },
      "execution_count": 17,
      "outputs": []
    },
    {
      "cell_type": "code",
      "source": [
        "reshaped_df = reshaped_df.fillna(0)"
      ],
      "metadata": {
        "id": "fvW1OgLrSdqH"
      },
      "execution_count": 18,
      "outputs": []
    },
    {
      "cell_type": "code",
      "source": [
        "reshaped_df.tail()"
      ],
      "metadata": {
        "colab": {
          "base_uri": "https://localhost:8080/",
          "height": 475
        },
        "id": "dsiJIsCcRkHH",
        "outputId": "ee6b615f-8a72-4510-8e5c-59d4336f7e97"
      },
      "execution_count": 19,
      "outputs": [
        {
          "output_type": "execute_result",
          "data": {
            "text/plain": [
              "Labour force status (8)    GEO Visible minority (15)  \\\n",
              "24907                    Yukon            West Asian   \n",
              "24908                    Yukon            West Asian   \n",
              "24909                    Yukon            West Asian   \n",
              "24910                    Yukon            West Asian   \n",
              "24911                    Yukon            West Asian   \n",
              "\n",
              "Labour force status (8)         Highest certificate, diploma or degree (7)  \\\n",
              "24907                    High (secondary) school diploma or equivalency...   \n",
              "24908                                    No certificate, diploma or degree   \n",
              "24909                                    No certificate, diploma or degree   \n",
              "24910                    University certificate or diploma below bachel...   \n",
              "24911                    University certificate or diploma below bachel...   \n",
              "\n",
              "Labour force status (8) Gender (3)  Total - Labour force status  \\\n",
              "24907                      Women+                           0.0   \n",
              "24908                        Men+                           0.0   \n",
              "24909                      Women+                           0.0   \n",
              "24910                        Men+                           0.0   \n",
              "24911                      Women+                           0.0   \n",
              "\n",
              "Labour force status (8)  In the labour force  Employed  Unemployed  \\\n",
              "24907                                    0.0       0.0         0.0   \n",
              "24908                                    0.0       0.0         0.0   \n",
              "24909                                    0.0       0.0         0.0   \n",
              "24910                                    0.0       0.0         0.0   \n",
              "24911                                    0.0       0.0         0.0   \n",
              "\n",
              "Labour force status (8)  Not in the labour force  Participation rate  \\\n",
              "24907                                        0.0                 0.0   \n",
              "24908                                        0.0                 0.0   \n",
              "24909                                        0.0                 0.0   \n",
              "24910                                        0.0                 0.0   \n",
              "24911                                        0.0                 0.0   \n",
              "\n",
              "Labour force status (8)  Employment rate  Unemployment rate  \n",
              "24907                                0.0                0.0  \n",
              "24908                                0.0                0.0  \n",
              "24909                                0.0                0.0  \n",
              "24910                                0.0                0.0  \n",
              "24911                                0.0                0.0  "
            ],
            "text/html": [
              "\n",
              "  <div id=\"df-28796a65-e0df-4e18-9588-612022cea470\">\n",
              "    <div class=\"colab-df-container\">\n",
              "      <div>\n",
              "<style scoped>\n",
              "    .dataframe tbody tr th:only-of-type {\n",
              "        vertical-align: middle;\n",
              "    }\n",
              "\n",
              "    .dataframe tbody tr th {\n",
              "        vertical-align: top;\n",
              "    }\n",
              "\n",
              "    .dataframe thead th {\n",
              "        text-align: right;\n",
              "    }\n",
              "</style>\n",
              "<table border=\"1\" class=\"dataframe\">\n",
              "  <thead>\n",
              "    <tr style=\"text-align: right;\">\n",
              "      <th>Labour force status (8)</th>\n",
              "      <th>GEO</th>\n",
              "      <th>Visible minority (15)</th>\n",
              "      <th>Highest certificate, diploma or degree (7)</th>\n",
              "      <th>Gender (3)</th>\n",
              "      <th>Total - Labour force status</th>\n",
              "      <th>In the labour force</th>\n",
              "      <th>Employed</th>\n",
              "      <th>Unemployed</th>\n",
              "      <th>Not in the labour force</th>\n",
              "      <th>Participation rate</th>\n",
              "      <th>Employment rate</th>\n",
              "      <th>Unemployment rate</th>\n",
              "    </tr>\n",
              "  </thead>\n",
              "  <tbody>\n",
              "    <tr>\n",
              "      <th>24907</th>\n",
              "      <td>Yukon</td>\n",
              "      <td>West Asian</td>\n",
              "      <td>High (secondary) school diploma or equivalency...</td>\n",
              "      <td>Women+</td>\n",
              "      <td>0.0</td>\n",
              "      <td>0.0</td>\n",
              "      <td>0.0</td>\n",
              "      <td>0.0</td>\n",
              "      <td>0.0</td>\n",
              "      <td>0.0</td>\n",
              "      <td>0.0</td>\n",
              "      <td>0.0</td>\n",
              "    </tr>\n",
              "    <tr>\n",
              "      <th>24908</th>\n",
              "      <td>Yukon</td>\n",
              "      <td>West Asian</td>\n",
              "      <td>No certificate, diploma or degree</td>\n",
              "      <td>Men+</td>\n",
              "      <td>0.0</td>\n",
              "      <td>0.0</td>\n",
              "      <td>0.0</td>\n",
              "      <td>0.0</td>\n",
              "      <td>0.0</td>\n",
              "      <td>0.0</td>\n",
              "      <td>0.0</td>\n",
              "      <td>0.0</td>\n",
              "    </tr>\n",
              "    <tr>\n",
              "      <th>24909</th>\n",
              "      <td>Yukon</td>\n",
              "      <td>West Asian</td>\n",
              "      <td>No certificate, diploma or degree</td>\n",
              "      <td>Women+</td>\n",
              "      <td>0.0</td>\n",
              "      <td>0.0</td>\n",
              "      <td>0.0</td>\n",
              "      <td>0.0</td>\n",
              "      <td>0.0</td>\n",
              "      <td>0.0</td>\n",
              "      <td>0.0</td>\n",
              "      <td>0.0</td>\n",
              "    </tr>\n",
              "    <tr>\n",
              "      <th>24910</th>\n",
              "      <td>Yukon</td>\n",
              "      <td>West Asian</td>\n",
              "      <td>University certificate or diploma below bachel...</td>\n",
              "      <td>Men+</td>\n",
              "      <td>0.0</td>\n",
              "      <td>0.0</td>\n",
              "      <td>0.0</td>\n",
              "      <td>0.0</td>\n",
              "      <td>0.0</td>\n",
              "      <td>0.0</td>\n",
              "      <td>0.0</td>\n",
              "      <td>0.0</td>\n",
              "    </tr>\n",
              "    <tr>\n",
              "      <th>24911</th>\n",
              "      <td>Yukon</td>\n",
              "      <td>West Asian</td>\n",
              "      <td>University certificate or diploma below bachel...</td>\n",
              "      <td>Women+</td>\n",
              "      <td>0.0</td>\n",
              "      <td>0.0</td>\n",
              "      <td>0.0</td>\n",
              "      <td>0.0</td>\n",
              "      <td>0.0</td>\n",
              "      <td>0.0</td>\n",
              "      <td>0.0</td>\n",
              "      <td>0.0</td>\n",
              "    </tr>\n",
              "  </tbody>\n",
              "</table>\n",
              "</div>\n",
              "      <button class=\"colab-df-convert\" onclick=\"convertToInteractive('df-28796a65-e0df-4e18-9588-612022cea470')\"\n",
              "              title=\"Convert this dataframe to an interactive table.\"\n",
              "              style=\"display:none;\">\n",
              "        \n",
              "  <svg xmlns=\"http://www.w3.org/2000/svg\" height=\"24px\"viewBox=\"0 0 24 24\"\n",
              "       width=\"24px\">\n",
              "    <path d=\"M0 0h24v24H0V0z\" fill=\"none\"/>\n",
              "    <path d=\"M18.56 5.44l.94 2.06.94-2.06 2.06-.94-2.06-.94-.94-2.06-.94 2.06-2.06.94zm-11 1L8.5 8.5l.94-2.06 2.06-.94-2.06-.94L8.5 2.5l-.94 2.06-2.06.94zm10 10l.94 2.06.94-2.06 2.06-.94-2.06-.94-.94-2.06-.94 2.06-2.06.94z\"/><path d=\"M17.41 7.96l-1.37-1.37c-.4-.4-.92-.59-1.43-.59-.52 0-1.04.2-1.43.59L10.3 9.45l-7.72 7.72c-.78.78-.78 2.05 0 2.83L4 21.41c.39.39.9.59 1.41.59.51 0 1.02-.2 1.41-.59l7.78-7.78 2.81-2.81c.8-.78.8-2.07 0-2.86zM5.41 20L4 18.59l7.72-7.72 1.47 1.35L5.41 20z\"/>\n",
              "  </svg>\n",
              "      </button>\n",
              "      \n",
              "  <style>\n",
              "    .colab-df-container {\n",
              "      display:flex;\n",
              "      flex-wrap:wrap;\n",
              "      gap: 12px;\n",
              "    }\n",
              "\n",
              "    .colab-df-convert {\n",
              "      background-color: #E8F0FE;\n",
              "      border: none;\n",
              "      border-radius: 50%;\n",
              "      cursor: pointer;\n",
              "      display: none;\n",
              "      fill: #1967D2;\n",
              "      height: 32px;\n",
              "      padding: 0 0 0 0;\n",
              "      width: 32px;\n",
              "    }\n",
              "\n",
              "    .colab-df-convert:hover {\n",
              "      background-color: #E2EBFA;\n",
              "      box-shadow: 0px 1px 2px rgba(60, 64, 67, 0.3), 0px 1px 3px 1px rgba(60, 64, 67, 0.15);\n",
              "      fill: #174EA6;\n",
              "    }\n",
              "\n",
              "    [theme=dark] .colab-df-convert {\n",
              "      background-color: #3B4455;\n",
              "      fill: #D2E3FC;\n",
              "    }\n",
              "\n",
              "    [theme=dark] .colab-df-convert:hover {\n",
              "      background-color: #434B5C;\n",
              "      box-shadow: 0px 1px 3px 1px rgba(0, 0, 0, 0.15);\n",
              "      filter: drop-shadow(0px 1px 2px rgba(0, 0, 0, 0.3));\n",
              "      fill: #FFFFFF;\n",
              "    }\n",
              "  </style>\n",
              "\n",
              "      <script>\n",
              "        const buttonEl =\n",
              "          document.querySelector('#df-28796a65-e0df-4e18-9588-612022cea470 button.colab-df-convert');\n",
              "        buttonEl.style.display =\n",
              "          google.colab.kernel.accessAllowed ? 'block' : 'none';\n",
              "\n",
              "        async function convertToInteractive(key) {\n",
              "          const element = document.querySelector('#df-28796a65-e0df-4e18-9588-612022cea470');\n",
              "          const dataTable =\n",
              "            await google.colab.kernel.invokeFunction('convertToInteractive',\n",
              "                                                     [key], {});\n",
              "          if (!dataTable) return;\n",
              "\n",
              "          const docLinkHtml = 'Like what you see? Visit the ' +\n",
              "            '<a target=\"_blank\" href=https://colab.research.google.com/notebooks/data_table.ipynb>data table notebook</a>'\n",
              "            + ' to learn more about interactive tables.';\n",
              "          element.innerHTML = '';\n",
              "          dataTable['output_type'] = 'display_data';\n",
              "          await google.colab.output.renderOutput(dataTable, element);\n",
              "          const docLink = document.createElement('div');\n",
              "          docLink.innerHTML = docLinkHtml;\n",
              "          element.appendChild(docLink);\n",
              "        }\n",
              "      </script>\n",
              "    </div>\n",
              "  </div>\n",
              "  "
            ]
          },
          "metadata": {},
          "execution_count": 19
        }
      ]
    },
    {
      "cell_type": "code",
      "source": [
        "reshaped_df.info()"
      ],
      "metadata": {
        "colab": {
          "base_uri": "https://localhost:8080/"
        },
        "id": "HYCtAYSYR1eB",
        "outputId": "d3fba6e6-13e4-4e4f-fc0b-8f7427822d3e"
      },
      "execution_count": 20,
      "outputs": [
        {
          "output_type": "stream",
          "name": "stdout",
          "text": [
            "<class 'pandas.core.frame.DataFrame'>\n",
            "RangeIndex: 24912 entries, 0 to 24911\n",
            "Data columns (total 12 columns):\n",
            " #   Column                                      Non-Null Count  Dtype  \n",
            "---  ------                                      --------------  -----  \n",
            " 0   GEO                                         24912 non-null  object \n",
            " 1   Visible minority (15)                       24912 non-null  object \n",
            " 2   Highest certificate, diploma or degree (7)  24912 non-null  object \n",
            " 3   Gender (3)                                  24912 non-null  object \n",
            " 4   Total - Labour force status                 24912 non-null  float64\n",
            " 5   In the labour force                         24912 non-null  float64\n",
            " 6   Employed                                    24912 non-null  float64\n",
            " 7   Unemployed                                  24912 non-null  float64\n",
            " 8   Not in the labour force                     24912 non-null  float64\n",
            " 9   Participation rate                          24912 non-null  float64\n",
            " 10  Employment rate                             24912 non-null  float64\n",
            " 11  Unemployment rate                           24912 non-null  float64\n",
            "dtypes: float64(8), object(4)\n",
            "memory usage: 2.3+ MB\n"
          ]
        }
      ]
    },
    {
      "cell_type": "code",
      "source": [
        "column_name_mapping = { \n",
        "    'GEO': 'Canadian Province/CMA',\n",
        "    'Visible minority (15)': 'Visible minority',\n",
        "    'Gender (3)': 'Gender',\n",
        "    'Highest certificate, diploma or degree (7)': 'Highest certificate, diploma or degree'\n",
        "}\n",
        "\n",
        "cleaned_df = reshaped_df.rename(columns=column_name_mapping)"
      ],
      "metadata": {
        "id": "Nxx3bybASg0Y"
      },
      "execution_count": 21,
      "outputs": []
    },
    {
      "cell_type": "code",
      "source": [
        "cleaned_df.head()"
      ],
      "metadata": {
        "colab": {
          "base_uri": "https://localhost:8080/",
          "height": 582
        },
        "id": "WRLz71_CTSWZ",
        "outputId": "8a1ce547-6766-4964-f887-1270db563604"
      },
      "execution_count": 34,
      "outputs": [
        {
          "output_type": "execute_result",
          "data": {
            "text/plain": [
              "Labour force status (8) Canadian Province/CMA Visible minority  \\\n",
              "0                        Abbotsford - Mission             Arab   \n",
              "1                        Abbotsford - Mission             Arab   \n",
              "2                        Abbotsford - Mission             Arab   \n",
              "3                        Abbotsford - Mission             Arab   \n",
              "4                        Abbotsford - Mission             Arab   \n",
              "\n",
              "Labour force status (8)             Highest certificate, diploma or degree  \\\n",
              "0                          Apprenticeship or trades certificate or diploma   \n",
              "1                          Apprenticeship or trades certificate or diploma   \n",
              "2                                              Bachelor's degree or higher   \n",
              "3                                              Bachelor's degree or higher   \n",
              "4                        College, CEGEP or other non-university certifi...   \n",
              "\n",
              "Labour force status (8)  Gender  Total - Labour force status  \\\n",
              "0                          Men+                          0.0   \n",
              "1                        Women+                          0.0   \n",
              "2                          Men+                         15.0   \n",
              "3                        Women+                         10.0   \n",
              "4                          Men+                         10.0   \n",
              "\n",
              "Labour force status (8)  In the labour force  Employed  Unemployed  \\\n",
              "0                                        0.0       0.0         0.0   \n",
              "1                                        0.0       0.0         0.0   \n",
              "2                                       15.0      15.0         0.0   \n",
              "3                                       10.0      10.0         0.0   \n",
              "4                                       10.0      10.0         0.0   \n",
              "\n",
              "Labour force status (8)  Not in the labour force  Participation rate  \\\n",
              "0                                            0.0                 0.0   \n",
              "1                                            0.0                 0.0   \n",
              "2                                            0.0               100.0   \n",
              "3                                            0.0               100.0   \n",
              "4                                            0.0               100.0   \n",
              "\n",
              "Labour force status (8)  Employment rate  Unemployment rate          Province  \n",
              "0                                    0.0                0.0  British Columbia  \n",
              "1                                    0.0                0.0  British Columbia  \n",
              "2                                  100.0                0.0  British Columbia  \n",
              "3                                  100.0                0.0  British Columbia  \n",
              "4                                  100.0                0.0  British Columbia  "
            ],
            "text/html": [
              "\n",
              "  <div id=\"df-cd414db2-d498-4a3a-9f94-f2dbdb28313b\">\n",
              "    <div class=\"colab-df-container\">\n",
              "      <div>\n",
              "<style scoped>\n",
              "    .dataframe tbody tr th:only-of-type {\n",
              "        vertical-align: middle;\n",
              "    }\n",
              "\n",
              "    .dataframe tbody tr th {\n",
              "        vertical-align: top;\n",
              "    }\n",
              "\n",
              "    .dataframe thead th {\n",
              "        text-align: right;\n",
              "    }\n",
              "</style>\n",
              "<table border=\"1\" class=\"dataframe\">\n",
              "  <thead>\n",
              "    <tr style=\"text-align: right;\">\n",
              "      <th>Labour force status (8)</th>\n",
              "      <th>Canadian Province/CMA</th>\n",
              "      <th>Visible minority</th>\n",
              "      <th>Highest certificate, diploma or degree</th>\n",
              "      <th>Gender</th>\n",
              "      <th>Total - Labour force status</th>\n",
              "      <th>In the labour force</th>\n",
              "      <th>Employed</th>\n",
              "      <th>Unemployed</th>\n",
              "      <th>Not in the labour force</th>\n",
              "      <th>Participation rate</th>\n",
              "      <th>Employment rate</th>\n",
              "      <th>Unemployment rate</th>\n",
              "      <th>Province</th>\n",
              "    </tr>\n",
              "  </thead>\n",
              "  <tbody>\n",
              "    <tr>\n",
              "      <th>0</th>\n",
              "      <td>Abbotsford - Mission</td>\n",
              "      <td>Arab</td>\n",
              "      <td>Apprenticeship or trades certificate or diploma</td>\n",
              "      <td>Men+</td>\n",
              "      <td>0.0</td>\n",
              "      <td>0.0</td>\n",
              "      <td>0.0</td>\n",
              "      <td>0.0</td>\n",
              "      <td>0.0</td>\n",
              "      <td>0.0</td>\n",
              "      <td>0.0</td>\n",
              "      <td>0.0</td>\n",
              "      <td>British Columbia</td>\n",
              "    </tr>\n",
              "    <tr>\n",
              "      <th>1</th>\n",
              "      <td>Abbotsford - Mission</td>\n",
              "      <td>Arab</td>\n",
              "      <td>Apprenticeship or trades certificate or diploma</td>\n",
              "      <td>Women+</td>\n",
              "      <td>0.0</td>\n",
              "      <td>0.0</td>\n",
              "      <td>0.0</td>\n",
              "      <td>0.0</td>\n",
              "      <td>0.0</td>\n",
              "      <td>0.0</td>\n",
              "      <td>0.0</td>\n",
              "      <td>0.0</td>\n",
              "      <td>British Columbia</td>\n",
              "    </tr>\n",
              "    <tr>\n",
              "      <th>2</th>\n",
              "      <td>Abbotsford - Mission</td>\n",
              "      <td>Arab</td>\n",
              "      <td>Bachelor's degree or higher</td>\n",
              "      <td>Men+</td>\n",
              "      <td>15.0</td>\n",
              "      <td>15.0</td>\n",
              "      <td>15.0</td>\n",
              "      <td>0.0</td>\n",
              "      <td>0.0</td>\n",
              "      <td>100.0</td>\n",
              "      <td>100.0</td>\n",
              "      <td>0.0</td>\n",
              "      <td>British Columbia</td>\n",
              "    </tr>\n",
              "    <tr>\n",
              "      <th>3</th>\n",
              "      <td>Abbotsford - Mission</td>\n",
              "      <td>Arab</td>\n",
              "      <td>Bachelor's degree or higher</td>\n",
              "      <td>Women+</td>\n",
              "      <td>10.0</td>\n",
              "      <td>10.0</td>\n",
              "      <td>10.0</td>\n",
              "      <td>0.0</td>\n",
              "      <td>0.0</td>\n",
              "      <td>100.0</td>\n",
              "      <td>100.0</td>\n",
              "      <td>0.0</td>\n",
              "      <td>British Columbia</td>\n",
              "    </tr>\n",
              "    <tr>\n",
              "      <th>4</th>\n",
              "      <td>Abbotsford - Mission</td>\n",
              "      <td>Arab</td>\n",
              "      <td>College, CEGEP or other non-university certifi...</td>\n",
              "      <td>Men+</td>\n",
              "      <td>10.0</td>\n",
              "      <td>10.0</td>\n",
              "      <td>10.0</td>\n",
              "      <td>0.0</td>\n",
              "      <td>0.0</td>\n",
              "      <td>100.0</td>\n",
              "      <td>100.0</td>\n",
              "      <td>0.0</td>\n",
              "      <td>British Columbia</td>\n",
              "    </tr>\n",
              "  </tbody>\n",
              "</table>\n",
              "</div>\n",
              "      <button class=\"colab-df-convert\" onclick=\"convertToInteractive('df-cd414db2-d498-4a3a-9f94-f2dbdb28313b')\"\n",
              "              title=\"Convert this dataframe to an interactive table.\"\n",
              "              style=\"display:none;\">\n",
              "        \n",
              "  <svg xmlns=\"http://www.w3.org/2000/svg\" height=\"24px\"viewBox=\"0 0 24 24\"\n",
              "       width=\"24px\">\n",
              "    <path d=\"M0 0h24v24H0V0z\" fill=\"none\"/>\n",
              "    <path d=\"M18.56 5.44l.94 2.06.94-2.06 2.06-.94-2.06-.94-.94-2.06-.94 2.06-2.06.94zm-11 1L8.5 8.5l.94-2.06 2.06-.94-2.06-.94L8.5 2.5l-.94 2.06-2.06.94zm10 10l.94 2.06.94-2.06 2.06-.94-2.06-.94-.94-2.06-.94 2.06-2.06.94z\"/><path d=\"M17.41 7.96l-1.37-1.37c-.4-.4-.92-.59-1.43-.59-.52 0-1.04.2-1.43.59L10.3 9.45l-7.72 7.72c-.78.78-.78 2.05 0 2.83L4 21.41c.39.39.9.59 1.41.59.51 0 1.02-.2 1.41-.59l7.78-7.78 2.81-2.81c.8-.78.8-2.07 0-2.86zM5.41 20L4 18.59l7.72-7.72 1.47 1.35L5.41 20z\"/>\n",
              "  </svg>\n",
              "      </button>\n",
              "      \n",
              "  <style>\n",
              "    .colab-df-container {\n",
              "      display:flex;\n",
              "      flex-wrap:wrap;\n",
              "      gap: 12px;\n",
              "    }\n",
              "\n",
              "    .colab-df-convert {\n",
              "      background-color: #E8F0FE;\n",
              "      border: none;\n",
              "      border-radius: 50%;\n",
              "      cursor: pointer;\n",
              "      display: none;\n",
              "      fill: #1967D2;\n",
              "      height: 32px;\n",
              "      padding: 0 0 0 0;\n",
              "      width: 32px;\n",
              "    }\n",
              "\n",
              "    .colab-df-convert:hover {\n",
              "      background-color: #E2EBFA;\n",
              "      box-shadow: 0px 1px 2px rgba(60, 64, 67, 0.3), 0px 1px 3px 1px rgba(60, 64, 67, 0.15);\n",
              "      fill: #174EA6;\n",
              "    }\n",
              "\n",
              "    [theme=dark] .colab-df-convert {\n",
              "      background-color: #3B4455;\n",
              "      fill: #D2E3FC;\n",
              "    }\n",
              "\n",
              "    [theme=dark] .colab-df-convert:hover {\n",
              "      background-color: #434B5C;\n",
              "      box-shadow: 0px 1px 3px 1px rgba(0, 0, 0, 0.15);\n",
              "      filter: drop-shadow(0px 1px 2px rgba(0, 0, 0, 0.3));\n",
              "      fill: #FFFFFF;\n",
              "    }\n",
              "  </style>\n",
              "\n",
              "      <script>\n",
              "        const buttonEl =\n",
              "          document.querySelector('#df-cd414db2-d498-4a3a-9f94-f2dbdb28313b button.colab-df-convert');\n",
              "        buttonEl.style.display =\n",
              "          google.colab.kernel.accessAllowed ? 'block' : 'none';\n",
              "\n",
              "        async function convertToInteractive(key) {\n",
              "          const element = document.querySelector('#df-cd414db2-d498-4a3a-9f94-f2dbdb28313b');\n",
              "          const dataTable =\n",
              "            await google.colab.kernel.invokeFunction('convertToInteractive',\n",
              "                                                     [key], {});\n",
              "          if (!dataTable) return;\n",
              "\n",
              "          const docLinkHtml = 'Like what you see? Visit the ' +\n",
              "            '<a target=\"_blank\" href=https://colab.research.google.com/notebooks/data_table.ipynb>data table notebook</a>'\n",
              "            + ' to learn more about interactive tables.';\n",
              "          element.innerHTML = '';\n",
              "          dataTable['output_type'] = 'display_data';\n",
              "          await google.colab.output.renderOutput(dataTable, element);\n",
              "          const docLink = document.createElement('div');\n",
              "          docLink.innerHTML = docLinkHtml;\n",
              "          element.appendChild(docLink);\n",
              "        }\n",
              "      </script>\n",
              "    </div>\n",
              "  </div>\n",
              "  "
            ]
          },
          "metadata": {},
          "execution_count": 34
        }
      ]
    },
    {
      "cell_type": "code",
      "source": [
        "cleaned_df.columns"
      ],
      "metadata": {
        "colab": {
          "base_uri": "https://localhost:8080/"
        },
        "id": "WECjGRXFTkih",
        "outputId": "c2419d64-e71b-427a-f83c-2b209625f9af"
      },
      "execution_count": 23,
      "outputs": [
        {
          "output_type": "execute_result",
          "data": {
            "text/plain": [
              "Index(['Canadian Province/CMA', 'Visible minority',\n",
              "       'Highest certificate, diploma or degree', 'Gender',\n",
              "       'Total - Labour force status', 'In the labour force', 'Employed',\n",
              "       'Unemployed', 'Not in the labour force', 'Participation rate',\n",
              "       'Employment rate', 'Unemployment rate'],\n",
              "      dtype='object', name='Labour force status (8)')"
            ]
          },
          "metadata": {},
          "execution_count": 23
        }
      ]
    },
    {
      "cell_type": "code",
      "source": [
        "cleaned_df['Canadian Province/CMA'] = cleaned_df['Canadian Province/CMA'].str.replace(r'\\(CMA\\).*', '', regex=True)"
      ],
      "metadata": {
        "id": "g3s9sEebIwvU"
      },
      "execution_count": 29,
      "outputs": []
    },
    {
      "cell_type": "code",
      "source": [
        "cleaned_df = cleaned_df.applymap(lambda x: x.strip() if isinstance(x, str) else x)"
      ],
      "metadata": {
        "id": "of3JdnERXI5Z"
      },
      "execution_count": 30,
      "outputs": []
    },
    {
      "cell_type": "code",
      "source": [
        "f_df = cleaned_df.query(\"`Visible minority` == 'Black' and `Gender` == 'Men+' and `Canadian Province/CMA` == 'Alberta'\")"
      ],
      "metadata": {
        "id": "-Qn8-xZjV3dH"
      },
      "execution_count": 26,
      "outputs": []
    },
    {
      "cell_type": "code",
      "source": [
        "f_df['Total - Labour force status'].sum()"
      ],
      "metadata": {
        "colab": {
          "base_uri": "https://localhost:8080/"
        },
        "id": "JOndMCl_V6pv",
        "outputId": "cfff4ffe-3246-41ab-b34d-4fca2de3af52"
      },
      "execution_count": 27,
      "outputs": [
        {
          "output_type": "execute_result",
          "data": {
            "text/plain": [
              "12630.0"
            ]
          },
          "metadata": {},
          "execution_count": 27
        }
      ]
    },
    {
      "cell_type": "code",
      "source": [
        "canadian_cmas = {\n",
        "    'British Columbia': [\n",
        "        'Abbotsford - Mission',\n",
        "        'Kelowna',\n",
        "        'Vancouver',\n",
        "        'Victoria',\n",
        "    ],\n",
        "    'Alberta': [\n",
        "        'Calgary',\n",
        "        'Edmonton',\n",
        "        'Lethbridge',\n",
        "        'Red Deer',\n",
        "    ],\n",
        "    'Saskatchewan': [\n",
        "        'Regina',\n",
        "        'Saskatoon',\n",
        "    ],\n",
        "    'Manitoba': [\n",
        "        'Winnipeg',\n",
        "    ],\n",
        "    'Ontario': [\n",
        "        'Barrie',\n",
        "        'Belleville',\n",
        "        'Brantford',\n",
        "        'Guelph',\n",
        "        'Hamilton',\n",
        "        'Kingston',\n",
        "        'Kitchener - Cambridge - Waterloo',\n",
        "        'London',\n",
        "        'Oshawa',\n",
        "        'Ottawa - Gatineau',\n",
        "        'Peterborough',\n",
        "        'St. Catharines - Niagara',\n",
        "        'Sudbury',\n",
        "        'Thunder Bay',\n",
        "        'Toronto',\n",
        "        'Windsor',\n",
        "    ],\n",
        "    'Quebec': [\n",
        "        'Chicoutimi - Jonquière',\n",
        "        'Montréal',\n",
        "        'Ottawa - Gatineau',\n",
        "        'Québec',\n",
        "        'Sherbrooke',\n",
        "        'Trois-Rivières',\n",
        "    ],\n",
        "    'New Brunswick': [\n",
        "        'Moncton',\n",
        "        'Saint John',\n",
        "    ],\n",
        "    'Nova Scotia': [\n",
        "        'Halifax',\n",
        "    ],\n",
        "    'Newfoundland and Labrador': [\n",
        "        \"St. John's\",\n",
        "    ],\n",
        "    'Prince Edward Island': [],\n",
        "    'Northwest Territories': [],\n",
        "    'Yukon': [],\n",
        "    'Nunavut': [],\n",
        "}\n"
      ],
      "metadata": {
        "id": "BN_JMZ9FH0bG"
      },
      "execution_count": 28,
      "outputs": []
    },
    {
      "cell_type": "code",
      "source": [
        "# Function to find the province for a given CMA\n",
        "def find_province(cma):\n",
        "    for province, cmalist in canadian_cmas.items():\n",
        "        if cma in cmalist:\n",
        "            return province\n",
        "    return None"
      ],
      "metadata": {
        "id": "bojIt6WkIXbR"
      },
      "execution_count": 32,
      "outputs": []
    },
    {
      "cell_type": "code",
      "source": [
        "cleaned_df['Province'] = cleaned_df['Canadian Province/CMA'].apply(find_province)"
      ],
      "metadata": {
        "id": "oFQdkI_bJUhg"
      },
      "execution_count": 33,
      "outputs": []
    },
    {
      "cell_type": "code",
      "source": [
        "cleaned_df['Province'] = cleaned_df['Province'].fillna(cleaned_df['Canadian Province/CMA'])"
      ],
      "metadata": {
        "id": "MRv4JVTfMIXM"
      },
      "execution_count": 36,
      "outputs": []
    },
    {
      "cell_type": "code",
      "source": [
        "cleaned_df.to_csv('immigrant_education_statistics_d2.csv', index=False)"
      ],
      "metadata": {
        "id": "kRjBdnEgTovH"
      },
      "execution_count": 37,
      "outputs": []
    }
  ]
}